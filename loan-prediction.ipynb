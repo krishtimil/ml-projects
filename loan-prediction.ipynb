{
 "cells": [
  {
   "cell_type": "markdown",
   "id": "2c4b2f45",
   "metadata": {
    "_cell_guid": "b1076dfc-b9ad-4769-8c92-a6c4dae69d19",
    "_uuid": "8f2839f25d086af736a60e9eeb907d3b93b6e0e5",
    "execution": {
     "iopub.execute_input": "2021-12-11T04:48:30.189143Z",
     "iopub.status.busy": "2021-12-11T04:48:30.188787Z",
     "iopub.status.idle": "2021-12-11T04:48:30.228484Z",
     "shell.execute_reply": "2021-12-11T04:48:30.227653Z",
     "shell.execute_reply.started": "2021-12-11T04:48:30.189043Z"
    },
    "papermill": {
     "duration": 0.018406,
     "end_time": "2023-04-28T10:18:07.275851",
     "exception": false,
     "start_time": "2023-04-28T10:18:07.257445",
     "status": "completed"
    },
    "tags": []
   },
   "source": [
    "### Introduction\n",
    "\n",
    "An organization wants to predict who possible defaulters are for the consumer loans product. They have data about historic customer behavior based on what they have observed. Hence when they acquire new customers they want to predict who is riskier and who is not.\n",
    "\n",
    "#### Task Details\n",
    "An organization wants to predict who possible defaulters are for the consumer loans product. They have data about historic customer behavior based on what they have observed. Hence when they acquire new customers they want to predict who is riskier and who is not.\n",
    "\n",
    "#### What do you have to do?\n",
    "You are required to use the training dataset to identify patterns that predict “potential” defaulters.\n",
    "\n",
    "#### Expected Submission\n",
    "Submissions should be made in the same format as the Sample Notebook provided. Train/Test split should be 80% for training & 20% for testing.\n",
    "\n",
    "#### Evaluation\n",
    "Submissions will be evaluated on the basis of roc_auc_score on 20% of train_dataset.\n",
    "\n",
    "#### NOTE\n",
    "The test_dataset was just a part of the Hackathon, the notebook you will be submitting should only train & test on train_data and predict a higher score.\n",
    "#### About Data\n",
    "- ID: Id of the user(All Unique)\n",
    "- Income: Income of the user\n",
    "- Age: Age of the user\n",
    "- Experience: Professional experience of the user in years\n",
    "- Profession: Profession of the user\n",
    "- Married/Single: Whether married or not\n",
    "- House_Ownership: Owned or rented or neither\n",
    "- Car_Ownership: Does the person own a car\n",
    "- STATE: State of residence\n",
    "- CITY: City of residence\n",
    "- CURRENT_JOB_YRS: Years of experience in the current job\n",
    "- CURRENT_HOUSE_YRS: Number of years in the current residence\\\n",
    "- Risk_Flag: Defaulted on a loan(Target variable)"
   ]
  },
  {
   "cell_type": "markdown",
   "id": "6edc6935",
   "metadata": {
    "papermill": {
     "duration": 0.017931,
     "end_time": "2023-04-28T10:18:07.310519",
     "exception": false,
     "start_time": "2023-04-28T10:18:07.292588",
     "status": "completed"
    },
    "tags": []
   },
   "source": [
    "#### Importing necessary library and set options"
   ]
  },
  {
   "cell_type": "code",
   "execution_count": 1,
   "id": "814540d8",
   "metadata": {
    "execution": {
     "iopub.execute_input": "2023-04-28T10:18:07.346205Z",
     "iopub.status.busy": "2023-04-28T10:18:07.345791Z",
     "iopub.status.idle": "2023-04-28T10:18:09.513876Z",
     "shell.execute_reply": "2023-04-28T10:18:09.512214Z"
    },
    "papermill": {
     "duration": 2.190055,
     "end_time": "2023-04-28T10:18:09.517177",
     "exception": false,
     "start_time": "2023-04-28T10:18:07.327122",
     "status": "completed"
    },
    "tags": []
   },
   "outputs": [],
   "source": [
    "import numpy as np\n",
    "import pandas as pd\n",
    "import os\n",
    "import seaborn as sns\n",
    "import matplotlib.pyplot as plt\n",
    "from imblearn.over_sampling import SMOTE\n",
    "from imblearn.pipeline import Pipeline\n",
    "from scipy.stats import chi2_contingency\n",
    "from sklearn.decomposition import PCA\n",
    "from sklearn.preprocessing import LabelEncoder, StandardScaler, MinMaxScaler\n",
    "from sklearn.model_selection import train_test_split\n",
    "from sklearn.metrics import classification_report\n",
    "%matplotlib inline\n",
    "sns.set_theme(color_codes=True, style='darkgrid', \n",
    "              palette='deep', font='sans-serif')"
   ]
  },
  {
   "cell_type": "markdown",
   "id": "9484e326",
   "metadata": {
    "papermill": {
     "duration": 0.016406,
     "end_time": "2023-04-28T10:18:09.550385",
     "exception": false,
     "start_time": "2023-04-28T10:18:09.533979",
     "status": "completed"
    },
    "tags": []
   },
   "source": [
    "## Importing Data and Data Cleansing"
   ]
  },
  {
   "cell_type": "code",
   "execution_count": 2,
   "id": "644038bb",
   "metadata": {
    "execution": {
     "iopub.execute_input": "2023-04-28T10:18:09.586050Z",
     "iopub.status.busy": "2023-04-28T10:18:09.585392Z",
     "iopub.status.idle": "2023-04-28T10:18:10.311264Z",
     "shell.execute_reply": "2023-04-28T10:18:10.309859Z"
    },
    "papermill": {
     "duration": 0.746844,
     "end_time": "2023-04-28T10:18:10.313961",
     "exception": false,
     "start_time": "2023-04-28T10:18:09.567117",
     "status": "completed"
    },
    "tags": []
   },
   "outputs": [
    {
     "data": {
      "text/html": [
       "<div>\n",
       "<style scoped>\n",
       "    .dataframe tbody tr th:only-of-type {\n",
       "        vertical-align: middle;\n",
       "    }\n",
       "\n",
       "    .dataframe tbody tr th {\n",
       "        vertical-align: top;\n",
       "    }\n",
       "\n",
       "    .dataframe thead th {\n",
       "        text-align: right;\n",
       "    }\n",
       "</style>\n",
       "<table border=\"1\" class=\"dataframe\">\n",
       "  <thead>\n",
       "    <tr style=\"text-align: right;\">\n",
       "      <th></th>\n",
       "      <th>Id</th>\n",
       "      <th>Income</th>\n",
       "      <th>Age</th>\n",
       "      <th>Experience</th>\n",
       "      <th>Married/Single</th>\n",
       "      <th>House_Ownership</th>\n",
       "      <th>Car_Ownership</th>\n",
       "      <th>Profession</th>\n",
       "      <th>CITY</th>\n",
       "      <th>STATE</th>\n",
       "      <th>CURRENT_JOB_YRS</th>\n",
       "      <th>CURRENT_HOUSE_YRS</th>\n",
       "      <th>Risk_Flag</th>\n",
       "    </tr>\n",
       "  </thead>\n",
       "  <tbody>\n",
       "    <tr>\n",
       "      <th>0</th>\n",
       "      <td>1</td>\n",
       "      <td>1303834</td>\n",
       "      <td>23</td>\n",
       "      <td>3</td>\n",
       "      <td>single</td>\n",
       "      <td>rented</td>\n",
       "      <td>no</td>\n",
       "      <td>Mechanical_engineer</td>\n",
       "      <td>Rewa</td>\n",
       "      <td>Madhya_Pradesh</td>\n",
       "      <td>3</td>\n",
       "      <td>13</td>\n",
       "      <td>0</td>\n",
       "    </tr>\n",
       "    <tr>\n",
       "      <th>1</th>\n",
       "      <td>2</td>\n",
       "      <td>7574516</td>\n",
       "      <td>40</td>\n",
       "      <td>10</td>\n",
       "      <td>single</td>\n",
       "      <td>rented</td>\n",
       "      <td>no</td>\n",
       "      <td>Software_Developer</td>\n",
       "      <td>Parbhani</td>\n",
       "      <td>Maharashtra</td>\n",
       "      <td>9</td>\n",
       "      <td>13</td>\n",
       "      <td>0</td>\n",
       "    </tr>\n",
       "    <tr>\n",
       "      <th>2</th>\n",
       "      <td>3</td>\n",
       "      <td>3991815</td>\n",
       "      <td>66</td>\n",
       "      <td>4</td>\n",
       "      <td>married</td>\n",
       "      <td>rented</td>\n",
       "      <td>no</td>\n",
       "      <td>Technical_writer</td>\n",
       "      <td>Alappuzha</td>\n",
       "      <td>Kerala</td>\n",
       "      <td>4</td>\n",
       "      <td>10</td>\n",
       "      <td>0</td>\n",
       "    </tr>\n",
       "    <tr>\n",
       "      <th>3</th>\n",
       "      <td>4</td>\n",
       "      <td>6256451</td>\n",
       "      <td>41</td>\n",
       "      <td>2</td>\n",
       "      <td>single</td>\n",
       "      <td>rented</td>\n",
       "      <td>yes</td>\n",
       "      <td>Software_Developer</td>\n",
       "      <td>Bhubaneswar</td>\n",
       "      <td>Odisha</td>\n",
       "      <td>2</td>\n",
       "      <td>12</td>\n",
       "      <td>1</td>\n",
       "    </tr>\n",
       "    <tr>\n",
       "      <th>4</th>\n",
       "      <td>5</td>\n",
       "      <td>5768871</td>\n",
       "      <td>47</td>\n",
       "      <td>11</td>\n",
       "      <td>single</td>\n",
       "      <td>rented</td>\n",
       "      <td>no</td>\n",
       "      <td>Civil_servant</td>\n",
       "      <td>Tiruchirappalli[10]</td>\n",
       "      <td>Tamil_Nadu</td>\n",
       "      <td>3</td>\n",
       "      <td>14</td>\n",
       "      <td>1</td>\n",
       "    </tr>\n",
       "  </tbody>\n",
       "</table>\n",
       "</div>"
      ],
      "text/plain": [
       "   Id   Income  Age  Experience Married/Single House_Ownership Car_Ownership  \\\n",
       "0   1  1303834   23           3         single          rented            no   \n",
       "1   2  7574516   40          10         single          rented            no   \n",
       "2   3  3991815   66           4        married          rented            no   \n",
       "3   4  6256451   41           2         single          rented           yes   \n",
       "4   5  5768871   47          11         single          rented            no   \n",
       "\n",
       "            Profession                 CITY           STATE  CURRENT_JOB_YRS  \\\n",
       "0  Mechanical_engineer                 Rewa  Madhya_Pradesh                3   \n",
       "1   Software_Developer             Parbhani     Maharashtra                9   \n",
       "2     Technical_writer            Alappuzha          Kerala                4   \n",
       "3   Software_Developer          Bhubaneswar          Odisha                2   \n",
       "4        Civil_servant  Tiruchirappalli[10]      Tamil_Nadu                3   \n",
       "\n",
       "   CURRENT_HOUSE_YRS  Risk_Flag  \n",
       "0                 13          0  \n",
       "1                 13          0  \n",
       "2                 10          0  \n",
       "3                 12          1  \n",
       "4                 14          1  "
      ]
     },
     "execution_count": 2,
     "metadata": {},
     "output_type": "execute_result"
    }
   ],
   "source": [
    "df = pd.read_csv(\"../input/loan-prediction-based-on-customer-behavior/Training Data.csv\")\n",
    "df.head()"
   ]
  },
  {
   "cell_type": "markdown",
   "id": "b9a62aa1",
   "metadata": {
    "papermill": {
     "duration": 0.016629,
     "end_time": "2023-04-28T10:18:10.348318",
     "exception": false,
     "start_time": "2023-04-28T10:18:10.331689",
     "status": "completed"
    },
    "tags": []
   },
   "source": [
    "Exploring the data data type of each columns"
   ]
  },
  {
   "cell_type": "code",
   "execution_count": 3,
   "id": "d9bbd615",
   "metadata": {
    "execution": {
     "iopub.execute_input": "2023-04-28T10:18:10.384352Z",
     "iopub.status.busy": "2023-04-28T10:18:10.383899Z",
     "iopub.status.idle": "2023-04-28T10:18:10.416454Z",
     "shell.execute_reply": "2023-04-28T10:18:10.415032Z"
    },
    "papermill": {
     "duration": 0.054141,
     "end_time": "2023-04-28T10:18:10.419338",
     "exception": false,
     "start_time": "2023-04-28T10:18:10.365197",
     "status": "completed"
    },
    "tags": []
   },
   "outputs": [
    {
     "data": {
      "text/plain": [
       "Vijayanagaram       1259\n",
       "Bhopal              1208\n",
       "Bulandshahr         1185\n",
       "Saharsa[29]         1180\n",
       "Vijayawada          1172\n",
       "                    ... \n",
       "Ujjain               486\n",
       "Warangal[11][12]     459\n",
       "Bettiah[33]          457\n",
       "Katni                448\n",
       "Karaikudi            431\n",
       "Name: CITY, Length: 317, dtype: int64"
      ]
     },
     "execution_count": 3,
     "metadata": {},
     "output_type": "execute_result"
    }
   ],
   "source": [
    "df.CITY.value_counts()"
   ]
  },
  {
   "cell_type": "code",
   "execution_count": 4,
   "id": "120a5e8d",
   "metadata": {
    "execution": {
     "iopub.execute_input": "2023-04-28T10:18:10.455573Z",
     "iopub.status.busy": "2023-04-28T10:18:10.455147Z",
     "iopub.status.idle": "2023-04-28T10:18:10.551937Z",
     "shell.execute_reply": "2023-04-28T10:18:10.550529Z"
    },
    "papermill": {
     "duration": 0.118704,
     "end_time": "2023-04-28T10:18:10.555002",
     "exception": false,
     "start_time": "2023-04-28T10:18:10.436298",
     "status": "completed"
    },
    "tags": []
   },
   "outputs": [
    {
     "name": "stdout",
     "output_type": "stream",
     "text": [
      "<class 'pandas.core.frame.DataFrame'>\n",
      "RangeIndex: 252000 entries, 0 to 251999\n",
      "Data columns (total 13 columns):\n",
      " #   Column             Non-Null Count   Dtype \n",
      "---  ------             --------------   ----- \n",
      " 0   Id                 252000 non-null  int64 \n",
      " 1   Income             252000 non-null  int64 \n",
      " 2   Age                252000 non-null  int64 \n",
      " 3   Experience         252000 non-null  int64 \n",
      " 4   Married/Single     252000 non-null  object\n",
      " 5   House_Ownership    252000 non-null  object\n",
      " 6   Car_Ownership      252000 non-null  object\n",
      " 7   Profession         252000 non-null  object\n",
      " 8   CITY               252000 non-null  object\n",
      " 9   STATE              252000 non-null  object\n",
      " 10  CURRENT_JOB_YRS    252000 non-null  int64 \n",
      " 11  CURRENT_HOUSE_YRS  252000 non-null  int64 \n",
      " 12  Risk_Flag          252000 non-null  int64 \n",
      "dtypes: int64(7), object(6)\n",
      "memory usage: 25.0+ MB\n"
     ]
    }
   ],
   "source": [
    "df.info()"
   ]
  },
  {
   "cell_type": "code",
   "execution_count": 5,
   "id": "26c2a350",
   "metadata": {
    "execution": {
     "iopub.execute_input": "2023-04-28T10:18:10.591618Z",
     "iopub.status.busy": "2023-04-28T10:18:10.591163Z",
     "iopub.status.idle": "2023-04-28T10:18:10.682047Z",
     "shell.execute_reply": "2023-04-28T10:18:10.680731Z"
    },
    "papermill": {
     "duration": 0.112236,
     "end_time": "2023-04-28T10:18:10.684671",
     "exception": false,
     "start_time": "2023-04-28T10:18:10.572435",
     "status": "completed"
    },
    "tags": []
   },
   "outputs": [
    {
     "data": {
      "text/html": [
       "<div>\n",
       "<style scoped>\n",
       "    .dataframe tbody tr th:only-of-type {\n",
       "        vertical-align: middle;\n",
       "    }\n",
       "\n",
       "    .dataframe tbody tr th {\n",
       "        vertical-align: top;\n",
       "    }\n",
       "\n",
       "    .dataframe thead th {\n",
       "        text-align: right;\n",
       "    }\n",
       "</style>\n",
       "<table border=\"1\" class=\"dataframe\">\n",
       "  <thead>\n",
       "    <tr style=\"text-align: right;\">\n",
       "      <th></th>\n",
       "      <th>Id</th>\n",
       "      <th>Income</th>\n",
       "      <th>Age</th>\n",
       "      <th>Experience</th>\n",
       "      <th>CURRENT_JOB_YRS</th>\n",
       "      <th>CURRENT_HOUSE_YRS</th>\n",
       "      <th>Risk_Flag</th>\n",
       "    </tr>\n",
       "  </thead>\n",
       "  <tbody>\n",
       "    <tr>\n",
       "      <th>count</th>\n",
       "      <td>252000.000000</td>\n",
       "      <td>2.520000e+05</td>\n",
       "      <td>252000.000000</td>\n",
       "      <td>252000.000000</td>\n",
       "      <td>252000.000000</td>\n",
       "      <td>252000.000000</td>\n",
       "      <td>252000.000000</td>\n",
       "    </tr>\n",
       "    <tr>\n",
       "      <th>mean</th>\n",
       "      <td>126000.500000</td>\n",
       "      <td>4.997117e+06</td>\n",
       "      <td>49.954071</td>\n",
       "      <td>10.084437</td>\n",
       "      <td>6.333877</td>\n",
       "      <td>11.997794</td>\n",
       "      <td>0.123000</td>\n",
       "    </tr>\n",
       "    <tr>\n",
       "      <th>std</th>\n",
       "      <td>72746.278255</td>\n",
       "      <td>2.878311e+06</td>\n",
       "      <td>17.063855</td>\n",
       "      <td>6.002590</td>\n",
       "      <td>3.647053</td>\n",
       "      <td>1.399037</td>\n",
       "      <td>0.328438</td>\n",
       "    </tr>\n",
       "    <tr>\n",
       "      <th>min</th>\n",
       "      <td>1.000000</td>\n",
       "      <td>1.031000e+04</td>\n",
       "      <td>21.000000</td>\n",
       "      <td>0.000000</td>\n",
       "      <td>0.000000</td>\n",
       "      <td>10.000000</td>\n",
       "      <td>0.000000</td>\n",
       "    </tr>\n",
       "    <tr>\n",
       "      <th>25%</th>\n",
       "      <td>63000.750000</td>\n",
       "      <td>2.503015e+06</td>\n",
       "      <td>35.000000</td>\n",
       "      <td>5.000000</td>\n",
       "      <td>3.000000</td>\n",
       "      <td>11.000000</td>\n",
       "      <td>0.000000</td>\n",
       "    </tr>\n",
       "    <tr>\n",
       "      <th>50%</th>\n",
       "      <td>126000.500000</td>\n",
       "      <td>5.000694e+06</td>\n",
       "      <td>50.000000</td>\n",
       "      <td>10.000000</td>\n",
       "      <td>6.000000</td>\n",
       "      <td>12.000000</td>\n",
       "      <td>0.000000</td>\n",
       "    </tr>\n",
       "    <tr>\n",
       "      <th>75%</th>\n",
       "      <td>189000.250000</td>\n",
       "      <td>7.477502e+06</td>\n",
       "      <td>65.000000</td>\n",
       "      <td>15.000000</td>\n",
       "      <td>9.000000</td>\n",
       "      <td>13.000000</td>\n",
       "      <td>0.000000</td>\n",
       "    </tr>\n",
       "    <tr>\n",
       "      <th>max</th>\n",
       "      <td>252000.000000</td>\n",
       "      <td>9.999938e+06</td>\n",
       "      <td>79.000000</td>\n",
       "      <td>20.000000</td>\n",
       "      <td>14.000000</td>\n",
       "      <td>14.000000</td>\n",
       "      <td>1.000000</td>\n",
       "    </tr>\n",
       "  </tbody>\n",
       "</table>\n",
       "</div>"
      ],
      "text/plain": [
       "                  Id        Income            Age     Experience  \\\n",
       "count  252000.000000  2.520000e+05  252000.000000  252000.000000   \n",
       "mean   126000.500000  4.997117e+06      49.954071      10.084437   \n",
       "std     72746.278255  2.878311e+06      17.063855       6.002590   \n",
       "min         1.000000  1.031000e+04      21.000000       0.000000   \n",
       "25%     63000.750000  2.503015e+06      35.000000       5.000000   \n",
       "50%    126000.500000  5.000694e+06      50.000000      10.000000   \n",
       "75%    189000.250000  7.477502e+06      65.000000      15.000000   \n",
       "max    252000.000000  9.999938e+06      79.000000      20.000000   \n",
       "\n",
       "       CURRENT_JOB_YRS  CURRENT_HOUSE_YRS      Risk_Flag  \n",
       "count    252000.000000      252000.000000  252000.000000  \n",
       "mean          6.333877          11.997794       0.123000  \n",
       "std           3.647053           1.399037       0.328438  \n",
       "min           0.000000          10.000000       0.000000  \n",
       "25%           3.000000          11.000000       0.000000  \n",
       "50%           6.000000          12.000000       0.000000  \n",
       "75%           9.000000          13.000000       0.000000  \n",
       "max          14.000000          14.000000       1.000000  "
      ]
     },
     "execution_count": 5,
     "metadata": {},
     "output_type": "execute_result"
    }
   ],
   "source": [
    "df.describe()"
   ]
  },
  {
   "cell_type": "markdown",
   "id": "a3f51ccc",
   "metadata": {
    "papermill": {
     "duration": 0.017666,
     "end_time": "2023-04-28T10:18:10.719959",
     "exception": false,
     "start_time": "2023-04-28T10:18:10.702293",
     "status": "completed"
    },
    "tags": []
   },
   "source": [
    "Checking for null values"
   ]
  },
  {
   "cell_type": "code",
   "execution_count": 6,
   "id": "d9e0942f",
   "metadata": {
    "execution": {
     "iopub.execute_input": "2023-04-28T10:18:10.757362Z",
     "iopub.status.busy": "2023-04-28T10:18:10.756939Z",
     "iopub.status.idle": "2023-04-28T10:18:10.841076Z",
     "shell.execute_reply": "2023-04-28T10:18:10.839607Z"
    },
    "papermill": {
     "duration": 0.106881,
     "end_time": "2023-04-28T10:18:10.844631",
     "exception": false,
     "start_time": "2023-04-28T10:18:10.737750",
     "status": "completed"
    },
    "tags": []
   },
   "outputs": [
    {
     "data": {
      "text/plain": [
       "Id                   0\n",
       "Income               0\n",
       "Age                  0\n",
       "Experience           0\n",
       "Married/Single       0\n",
       "House_Ownership      0\n",
       "Car_Ownership        0\n",
       "Profession           0\n",
       "CITY                 0\n",
       "STATE                0\n",
       "CURRENT_JOB_YRS      0\n",
       "CURRENT_HOUSE_YRS    0\n",
       "Risk_Flag            0\n",
       "dtype: int64"
      ]
     },
     "execution_count": 6,
     "metadata": {},
     "output_type": "execute_result"
    }
   ],
   "source": [
    "df.isnull().sum()"
   ]
  },
  {
   "cell_type": "markdown",
   "id": "ddb5826e",
   "metadata": {
    "papermill": {
     "duration": 0.017323,
     "end_time": "2023-04-28T10:18:10.880191",
     "exception": false,
     "start_time": "2023-04-28T10:18:10.862868",
     "status": "completed"
    },
    "tags": []
   },
   "source": [
    "There are no missing value in the datasets!"
   ]
  },
  {
   "cell_type": "markdown",
   "id": "0389ea71",
   "metadata": {
    "papermill": {
     "duration": 0.017891,
     "end_time": "2023-04-28T10:18:10.915518",
     "exception": false,
     "start_time": "2023-04-28T10:18:10.897627",
     "status": "completed"
    },
    "tags": []
   },
   "source": [
    "### Data Visualization "
   ]
  },
  {
   "cell_type": "markdown",
   "id": "e6e0d0c8",
   "metadata": {
    "papermill": {
     "duration": 0.017304,
     "end_time": "2023-04-28T10:18:10.950324",
     "exception": false,
     "start_time": "2023-04-28T10:18:10.933020",
     "status": "completed"
    },
    "tags": []
   },
   "source": [
    "### Distribution of Age"
   ]
  },
  {
   "cell_type": "code",
   "execution_count": 7,
   "id": "7bc4a892",
   "metadata": {
    "execution": {
     "iopub.execute_input": "2023-04-28T10:18:10.987805Z",
     "iopub.status.busy": "2023-04-28T10:18:10.987135Z",
     "iopub.status.idle": "2023-04-28T10:18:12.369594Z",
     "shell.execute_reply": "2023-04-28T10:18:12.368557Z"
    },
    "papermill": {
     "duration": 1.404302,
     "end_time": "2023-04-28T10:18:12.371999",
     "exception": false,
     "start_time": "2023-04-28T10:18:10.967697",
     "status": "completed"
    },
    "tags": []
   },
   "outputs": [
    {
     "name": "stderr",
     "output_type": "stream",
     "text": [
      "/opt/conda/lib/python3.7/site-packages/ipykernel_launcher.py:1: UserWarning: \n",
      "\n",
      "`distplot` is a deprecated function and will be removed in seaborn v0.14.0.\n",
      "\n",
      "Please adapt your code to use either `displot` (a figure-level function with\n",
      "similar flexibility) or `histplot` (an axes-level function for histograms).\n",
      "\n",
      "For a guide to updating your code to use the new functions, please see\n",
      "https://gist.github.com/mwaskom/de44147ed2974457ad6372750bbe5751\n",
      "\n",
      "  \"\"\"Entry point for launching an IPython kernel.\n"
     ]
    },
    {
     "data": {
      "image/png": "[encoded data removed]",
      "text/plain": [
       "<Figure size 640x480 with 1 Axes>"
      ]
     },
     "metadata": {},
     "output_type": "display_data"
    }
   ],
   "source": [
    "sns.distplot(a=df[\"Age\"]);"
   ]
  },
  {
   "cell_type": "markdown",
   "id": "714c200a",
   "metadata": {
    "papermill": {
     "duration": 0.018018,
     "end_time": "2023-04-28T10:18:12.408853",
     "exception": false,
     "start_time": "2023-04-28T10:18:12.390835",
     "status": "completed"
    },
    "tags": []
   },
   "source": [
    "### Effect of House ownership on Risk Flag"
   ]
  },
  {
   "cell_type": "code",
   "execution_count": 8,
   "id": "466d57e0",
   "metadata": {
    "execution": {
     "iopub.execute_input": "2023-04-28T10:18:12.448104Z",
     "iopub.status.busy": "2023-04-28T10:18:12.447355Z",
     "iopub.status.idle": "2023-04-28T10:18:12.903490Z",
     "shell.execute_reply": "2023-04-28T10:18:12.902211Z"
    },
    "papermill": {
     "duration": 0.479428,
     "end_time": "2023-04-28T10:18:12.906752",
     "exception": false,
     "start_time": "2023-04-28T10:18:12.427324",
     "status": "completed"
    },
    "tags": []
   },
   "outputs": [
    {
     "data": {
      "image/png": "[encoded data removed]",
      "text/plain": [
       "<Figure size 640x480 with 1 Axes>"
      ]
     },
     "metadata": {},
     "output_type": "display_data"
    }
   ],
   "source": [
    "sns.countplot(x='House_Ownership', hue='Risk_Flag', data=df);"
   ]
  },
  {
   "cell_type": "markdown",
   "id": "e1623a17",
   "metadata": {
    "papermill": {
     "duration": 0.01912,
     "end_time": "2023-04-28T10:18:12.945551",
     "exception": false,
     "start_time": "2023-04-28T10:18:12.926431",
     "status": "completed"
    },
    "tags": []
   },
   "source": [
    "### Effect of Car owners on Risk Flag"
   ]
  },
  {
   "cell_type": "code",
   "execution_count": 9,
   "id": "03b9d189",
   "metadata": {
    "execution": {
     "iopub.execute_input": "2023-04-28T10:18:12.986134Z",
     "iopub.status.busy": "2023-04-28T10:18:12.985635Z",
     "iopub.status.idle": "2023-04-28T10:18:13.439866Z",
     "shell.execute_reply": "2023-04-28T10:18:13.438859Z"
    },
    "papermill": {
     "duration": 0.477553,
     "end_time": "2023-04-28T10:18:13.442368",
     "exception": false,
     "start_time": "2023-04-28T10:18:12.964815",
     "status": "completed"
    },
    "tags": []
   },
   "outputs": [
    {
     "data": {
      "image/png": "[encoded data removed]",
      "text/plain": [
       "<Figure size 640x480 with 1 Axes>"
      ]
     },
     "metadata": {},
     "output_type": "display_data"
    }
   ],
   "source": [
    "sns.countplot(x='Car_Ownership', hue='Risk_Flag', data=df);"
   ]
  },
  {
   "cell_type": "markdown",
   "id": "349f98d9",
   "metadata": {
    "papermill": {
     "duration": 0.019023,
     "end_time": "2023-04-28T10:18:13.480817",
     "exception": false,
     "start_time": "2023-04-28T10:18:13.461794",
     "status": "completed"
    },
    "tags": []
   },
   "source": [
    "### Effect of Marital Status on Risk Flag"
   ]
  },
  {
   "cell_type": "code",
   "execution_count": 10,
   "id": "54e580e4",
   "metadata": {
    "execution": {
     "iopub.execute_input": "2023-04-28T10:18:13.521687Z",
     "iopub.status.busy": "2023-04-28T10:18:13.521228Z",
     "iopub.status.idle": "2023-04-28T10:18:13.966384Z",
     "shell.execute_reply": "2023-04-28T10:18:13.964992Z"
    },
    "papermill": {
     "duration": 0.469234,
     "end_time": "2023-04-28T10:18:13.969382",
     "exception": false,
     "start_time": "2023-04-28T10:18:13.500148",
     "status": "completed"
    },
    "tags": []
   },
   "outputs": [
    {
     "data": {
      "image/png": "[encoded data removed]",
      "text/plain": [
       "<Figure size 640x480 with 1 Axes>"
      ]
     },
     "metadata": {},
     "output_type": "display_data"
    }
   ],
   "source": [
    "sns.countplot(x='Married/Single', hue='Risk_Flag', data=df);"
   ]
  },
  {
   "cell_type": "markdown",
   "id": "f8912803",
   "metadata": {
    "execution": {
     "iopub.execute_input": "2021-12-10T06:39:57.112905Z",
     "iopub.status.busy": "2021-12-10T06:39:57.112527Z",
     "iopub.status.idle": "2021-12-10T06:39:58.337631Z",
     "shell.execute_reply": "2021-12-10T06:39:58.33653Z",
     "shell.execute_reply.started": "2021-12-10T06:39:57.112873Z"
    },
    "papermill": {
     "duration": 0.020283,
     "end_time": "2023-04-28T10:18:14.009734",
     "exception": false,
     "start_time": "2023-04-28T10:18:13.989451",
     "status": "completed"
    },
    "tags": []
   },
   "source": [
    "### Distribution of Income"
   ]
  },
  {
   "cell_type": "code",
   "execution_count": 11,
   "id": "dd85fa9f",
   "metadata": {
    "execution": {
     "iopub.execute_input": "2023-04-28T10:18:14.053145Z",
     "iopub.status.busy": "2023-04-28T10:18:14.052672Z",
     "iopub.status.idle": "2023-04-28T10:18:15.435017Z",
     "shell.execute_reply": "2023-04-28T10:18:15.433762Z"
    },
    "papermill": {
     "duration": 1.407361,
     "end_time": "2023-04-28T10:18:15.437678",
     "exception": false,
     "start_time": "2023-04-28T10:18:14.030317",
     "status": "completed"
    },
    "tags": []
   },
   "outputs": [
    {
     "name": "stderr",
     "output_type": "stream",
     "text": [
      "/opt/conda/lib/python3.7/site-packages/ipykernel_launcher.py:1: UserWarning: \n",
      "\n",
      "`distplot` is a deprecated function and will be removed in seaborn v0.14.0.\n",
      "\n",
      "Please adapt your code to use either `displot` (a figure-level function with\n",
      "similar flexibility) or `histplot` (an axes-level function for histograms).\n",
      "\n",
      "For a guide to updating your code to use the new functions, please see\n",
      "https://gist.github.com/mwaskom/de44147ed2974457ad6372750bbe5751\n",
      "\n",
      "  \"\"\"Entry point for launching an IPython kernel.\n"
     ]
    },
    {
     "data": {
      "image/png": "[encoded data removed]",
      "text/plain": [
       "<Figure size 640x480 with 1 Axes>"
      ]
     },
     "metadata": {},
     "output_type": "display_data"
    }
   ],
   "source": [
    "sns.distplot(a=df[\"Income\"]);"
   ]
  },
  {
   "cell_type": "markdown",
   "id": "aef1733f",
   "metadata": {
    "papermill": {
     "duration": 0.020236,
     "end_time": "2023-04-28T10:18:15.478676",
     "exception": false,
     "start_time": "2023-04-28T10:18:15.458440",
     "status": "completed"
    },
    "tags": []
   },
   "source": [
    "### Relationship of Numerical variable on target variable"
   ]
  },
  {
   "cell_type": "code",
   "execution_count": 12,
   "id": "fac58d37",
   "metadata": {
    "execution": {
     "iopub.execute_input": "2023-04-28T10:18:15.522517Z",
     "iopub.status.busy": "2023-04-28T10:18:15.521293Z",
     "iopub.status.idle": "2023-04-28T10:18:16.229725Z",
     "shell.execute_reply": "2023-04-28T10:18:16.228256Z"
    },
    "papermill": {
     "duration": 0.733691,
     "end_time": "2023-04-28T10:18:16.232864",
     "exception": false,
     "start_time": "2023-04-28T10:18:15.499173",
     "status": "completed"
    },
    "tags": []
   },
   "outputs": [
    {
     "data": {
      "image/png": "[encoded data removed]",
      "text/plain": [
       "<Figure size 640x480 with 2 Axes>"
      ]
     },
     "metadata": {},
     "output_type": "display_data"
    }
   ],
   "source": [
    "sns.heatmap(df.corr(), annot=True);"
   ]
  },
  {
   "cell_type": "markdown",
   "id": "ff4b7ebb",
   "metadata": {
    "papermill": {
     "duration": 0.022114,
     "end_time": "2023-04-28T10:18:16.278910",
     "exception": false,
     "start_time": "2023-04-28T10:18:16.256796",
     "status": "completed"
    },
    "tags": []
   },
   "source": [
    "### Checking for Outliers"
   ]
  },
  {
   "cell_type": "code",
   "execution_count": 13,
   "id": "fdd22e35",
   "metadata": {
    "execution": {
     "iopub.execute_input": "2023-04-28T10:18:16.325661Z",
     "iopub.status.busy": "2023-04-28T10:18:16.325245Z",
     "iopub.status.idle": "2023-04-28T10:18:16.529712Z",
     "shell.execute_reply": "2023-04-28T10:18:16.528361Z"
    },
    "papermill": {
     "duration": 0.231439,
     "end_time": "2023-04-28T10:18:16.532627",
     "exception": false,
     "start_time": "2023-04-28T10:18:16.301188",
     "status": "completed"
    },
    "tags": []
   },
   "outputs": [
    {
     "data": {
      "image/png": "[encoded data removed]",
      "text/plain": [
       "<Figure size 640x480 with 1 Axes>"
      ]
     },
     "metadata": {},
     "output_type": "display_data"
    }
   ],
   "source": [
    "sns.boxplot(y = 'Age', data = df);"
   ]
  },
  {
   "cell_type": "code",
   "execution_count": 14,
   "id": "a5ac5661",
   "metadata": {
    "execution": {
     "iopub.execute_input": "2023-04-28T10:18:16.579867Z",
     "iopub.status.busy": "2023-04-28T10:18:16.579431Z",
     "iopub.status.idle": "2023-04-28T10:18:16.939410Z",
     "shell.execute_reply": "2023-04-28T10:18:16.937903Z"
    },
    "papermill": {
     "duration": 0.38694,
     "end_time": "2023-04-28T10:18:16.942262",
     "exception": false,
     "start_time": "2023-04-28T10:18:16.555322",
     "status": "completed"
    },
    "tags": []
   },
   "outputs": [
    {
     "data": {
      "image/png": "[encoded data removed]",
      "text/plain": [
       "<Figure size 640x480 with 1 Axes>"
      ]
     },
     "metadata": {},
     "output_type": "display_data"
    }
   ],
   "source": [
    "sns.boxplot(y = 'Income', data = df);"
   ]
  },
  {
   "cell_type": "code",
   "execution_count": 15,
   "id": "6f3e4f96",
   "metadata": {
    "execution": {
     "iopub.execute_input": "2023-04-28T10:18:16.989841Z",
     "iopub.status.busy": "2023-04-28T10:18:16.989396Z",
     "iopub.status.idle": "2023-04-28T10:18:17.181945Z",
     "shell.execute_reply": "2023-04-28T10:18:17.180148Z"
    },
    "papermill": {
     "duration": 0.228257,
     "end_time": "2023-04-28T10:18:17.193461",
     "exception": false,
     "start_time": "2023-04-28T10:18:16.965204",
     "status": "completed"
    },
    "tags": []
   },
   "outputs": [
    {
     "data": {
      "image/png": "[encoded data removed]",
      "text/plain": [
       "<Figure size 640x480 with 1 Axes>"
      ]
     },
     "metadata": {},
     "output_type": "display_data"
    }
   ],
   "source": [
    "r = df.groupby('Risk_Flag')['Risk_Flag'].count()\n",
    "plt.pie(r, explode=[0.05, 0.1], labels=['Non-Defaulter', 'Defaulter'], radius=1.5, autopct='%1.1f%%',  shadow=True);"
   ]
  },
  {
   "cell_type": "code",
   "execution_count": 16,
   "id": "da02a20a",
   "metadata": {
    "execution": {
     "iopub.execute_input": "2023-04-28T10:18:17.271146Z",
     "iopub.status.busy": "2023-04-28T10:18:17.270675Z",
     "iopub.status.idle": "2023-04-28T10:18:17.341798Z",
     "shell.execute_reply": "2023-04-28T10:18:17.340334Z"
    },
    "papermill": {
     "duration": 0.105867,
     "end_time": "2023-04-28T10:18:17.344558",
     "exception": false,
     "start_time": "2023-04-28T10:18:17.238691",
     "status": "completed"
    },
    "tags": []
   },
   "outputs": [
    {
     "name": "stdout",
     "output_type": "stream",
     "text": [
      "51\n",
      "29\n",
      "317\n"
     ]
    }
   ],
   "source": [
    "print(len(df.Profession.unique()))\n",
    "print(len(df.STATE.unique()))\n",
    "print(len(df.CITY.unique()))"
   ]
  },
  {
   "cell_type": "markdown",
   "id": "7756dffc",
   "metadata": {
    "papermill": {
     "duration": 0.024393,
     "end_time": "2023-04-28T10:18:17.392852",
     "exception": false,
     "start_time": "2023-04-28T10:18:17.368459",
     "status": "completed"
    },
    "tags": []
   },
   "source": [
    "### Summary on Data Visualization\n",
    "- Class 0 represents 88.00% of the dataset, while class 1 only 12.00%. The classes are heavily skewed we need to solve this issue\n",
    "- There are no outliers in datasets. But we need to scale Age and Income\n",
    "- Strong correlation between Experience and CURRENT_JOB_YRS May drop one column during feature selection process or use Principal Component Analysis (PCA)\n",
    "- Married/Single House_Ownership Car_Ownership can be binarised or one-hot encoded\n",
    "- We can find the relationship between target variable and categorical variable using Chi-square test"
   ]
  },
  {
   "cell_type": "markdown",
   "id": "290fe856",
   "metadata": {
    "papermill": {
     "duration": 0.023114,
     "end_time": "2023-04-28T10:18:17.440758",
     "exception": false,
     "start_time": "2023-04-28T10:18:17.417644",
     "status": "completed"
    },
    "tags": []
   },
   "source": [
    "### Feature Engineering"
   ]
  },
  {
   "cell_type": "markdown",
   "id": "2900b4b0",
   "metadata": {
    "papermill": {
     "duration": 0.02352,
     "end_time": "2023-04-28T10:18:17.487841",
     "exception": false,
     "start_time": "2023-04-28T10:18:17.464321",
     "status": "completed"
    },
    "tags": []
   },
   "source": [
    "Helping function for hypothesis testing"
   ]
  },
  {
   "cell_type": "code",
   "execution_count": 17,
   "id": "d51a12f6",
   "metadata": {
    "execution": {
     "iopub.execute_input": "2023-04-28T10:18:17.537506Z",
     "iopub.status.busy": "2023-04-28T10:18:17.537021Z",
     "iopub.status.idle": "2023-04-28T10:18:17.543318Z",
     "shell.execute_reply": "2023-04-28T10:18:17.542103Z"
    },
    "papermill": {
     "duration": 0.034094,
     "end_time": "2023-04-28T10:18:17.545660",
     "exception": false,
     "start_time": "2023-04-28T10:18:17.511566",
     "status": "completed"
    },
    "tags": []
   },
   "outputs": [],
   "source": [
    "def chi_square_test(data):\n",
    "    stat, p, dof, expected = chi2_contingency(data)\n",
    "    alpha = 0.05\n",
    "    print(\"p value is \" + str(p))\n",
    "    if p <= alpha:\n",
    "        print('Dependent (reject H0)')\n",
    "    else:\n",
    "        print('Independent (H0 holds true)')"
   ]
  },
  {
   "cell_type": "markdown",
   "id": "4314b5b0",
   "metadata": {
    "papermill": {
     "duration": 0.023232,
     "end_time": "2023-04-28T10:18:17.592540",
     "exception": false,
     "start_time": "2023-04-28T10:18:17.569308",
     "status": "completed"
    },
    "tags": []
   },
   "source": [
    "### Chi Square Test"
   ]
  },
  {
   "cell_type": "code",
   "execution_count": 18,
   "id": "d4059373",
   "metadata": {
    "execution": {
     "iopub.execute_input": "2023-04-28T10:18:17.641504Z",
     "iopub.status.busy": "2023-04-28T10:18:17.641022Z",
     "iopub.status.idle": "2023-04-28T10:18:17.709784Z",
     "shell.execute_reply": "2023-04-28T10:18:17.708568Z"
    },
    "papermill": {
     "duration": 0.096585,
     "end_time": "2023-04-28T10:18:17.712668",
     "exception": false,
     "start_time": "2023-04-28T10:18:17.616083",
     "status": "completed"
    },
    "tags": []
   },
   "outputs": [
    {
     "data": {
      "text/html": [
       "<div>\n",
       "<style scoped>\n",
       "    .dataframe tbody tr th:only-of-type {\n",
       "        vertical-align: middle;\n",
       "    }\n",
       "\n",
       "    .dataframe tbody tr th {\n",
       "        vertical-align: top;\n",
       "    }\n",
       "\n",
       "    .dataframe thead th {\n",
       "        text-align: right;\n",
       "    }\n",
       "</style>\n",
       "<table border=\"1\" class=\"dataframe\">\n",
       "  <thead>\n",
       "    <tr style=\"text-align: right;\">\n",
       "      <th>Risk_Flag</th>\n",
       "      <th>0</th>\n",
       "      <th>1</th>\n",
       "    </tr>\n",
       "    <tr>\n",
       "      <th>Car_Ownership</th>\n",
       "      <th></th>\n",
       "      <th></th>\n",
       "    </tr>\n",
       "  </thead>\n",
       "  <tbody>\n",
       "    <tr>\n",
       "      <th>no</th>\n",
       "      <td>153439</td>\n",
       "      <td>22561</td>\n",
       "    </tr>\n",
       "    <tr>\n",
       "      <th>yes</th>\n",
       "      <td>67565</td>\n",
       "      <td>8435</td>\n",
       "    </tr>\n",
       "  </tbody>\n",
       "</table>\n",
       "</div>"
      ],
      "text/plain": [
       "Risk_Flag           0      1\n",
       "Car_Ownership               \n",
       "no             153439  22561\n",
       "yes             67565   8435"
      ]
     },
     "execution_count": 18,
     "metadata": {},
     "output_type": "execute_result"
    }
   ],
   "source": [
    "car_ownership_risk_flag = pd.crosstab(df[\"Car_Ownership\"], df[\"Risk_Flag\"])\n",
    "car_ownership_risk_flag"
   ]
  },
  {
   "cell_type": "code",
   "execution_count": 19,
   "id": "95302f6a",
   "metadata": {
    "execution": {
     "iopub.execute_input": "2023-04-28T10:18:17.763771Z",
     "iopub.status.busy": "2023-04-28T10:18:17.762947Z",
     "iopub.status.idle": "2023-04-28T10:18:17.769832Z",
     "shell.execute_reply": "2023-04-28T10:18:17.768592Z"
    },
    "papermill": {
     "duration": 0.034521,
     "end_time": "2023-04-28T10:18:17.771991",
     "exception": false,
     "start_time": "2023-04-28T10:18:17.737470",
     "status": "completed"
    },
    "tags": []
   },
   "outputs": [
    {
     "name": "stdout",
     "output_type": "stream",
     "text": [
      "p value is 1.7350853850183746e-33\n",
      "Dependent (reject H0)\n"
     ]
    }
   ],
   "source": [
    "chi_square_test(car_ownership_risk_flag)"
   ]
  },
  {
   "cell_type": "code",
   "execution_count": 20,
   "id": "093f53c3",
   "metadata": {
    "execution": {
     "iopub.execute_input": "2023-04-28T10:18:17.822222Z",
     "iopub.status.busy": "2023-04-28T10:18:17.821452Z",
     "iopub.status.idle": "2023-04-28T10:18:17.877738Z",
     "shell.execute_reply": "2023-04-28T10:18:17.876735Z"
    },
    "papermill": {
     "duration": 0.084573,
     "end_time": "2023-04-28T10:18:17.880299",
     "exception": false,
     "start_time": "2023-04-28T10:18:17.795726",
     "status": "completed"
    },
    "tags": []
   },
   "outputs": [
    {
     "data": {
      "text/html": [
       "<div>\n",
       "<style scoped>\n",
       "    .dataframe tbody tr th:only-of-type {\n",
       "        vertical-align: middle;\n",
       "    }\n",
       "\n",
       "    .dataframe tbody tr th {\n",
       "        vertical-align: top;\n",
       "    }\n",
       "\n",
       "    .dataframe thead th {\n",
       "        text-align: right;\n",
       "    }\n",
       "</style>\n",
       "<table border=\"1\" class=\"dataframe\">\n",
       "  <thead>\n",
       "    <tr style=\"text-align: right;\">\n",
       "      <th>Risk_Flag</th>\n",
       "      <th>0</th>\n",
       "      <th>1</th>\n",
       "    </tr>\n",
       "    <tr>\n",
       "      <th>Married/Single</th>\n",
       "      <th></th>\n",
       "      <th></th>\n",
       "    </tr>\n",
       "  </thead>\n",
       "  <tbody>\n",
       "    <tr>\n",
       "      <th>married</th>\n",
       "      <td>23092</td>\n",
       "      <td>2636</td>\n",
       "    </tr>\n",
       "    <tr>\n",
       "      <th>single</th>\n",
       "      <td>197912</td>\n",
       "      <td>28360</td>\n",
       "    </tr>\n",
       "  </tbody>\n",
       "</table>\n",
       "</div>"
      ],
      "text/plain": [
       "Risk_Flag            0      1\n",
       "Married/Single               \n",
       "married          23092   2636\n",
       "single          197912  28360"
      ]
     },
     "execution_count": 20,
     "metadata": {},
     "output_type": "execute_result"
    }
   ],
   "source": [
    "marital_status_risk_flag = pd.crosstab(df[\"Married/Single\"], df[\"Risk_Flag\"])\n",
    "marital_status_risk_flag"
   ]
  },
  {
   "cell_type": "code",
   "execution_count": 21,
   "id": "2bc0bdbb",
   "metadata": {
    "execution": {
     "iopub.execute_input": "2023-04-28T10:18:17.930312Z",
     "iopub.status.busy": "2023-04-28T10:18:17.929566Z",
     "iopub.status.idle": "2023-04-28T10:18:17.936093Z",
     "shell.execute_reply": "2023-04-28T10:18:17.934562Z"
    },
    "papermill": {
     "duration": 0.034713,
     "end_time": "2023-04-28T10:18:17.938899",
     "exception": false,
     "start_time": "2023-04-28T10:18:17.904186",
     "status": "completed"
    },
    "tags": []
   },
   "outputs": [
    {
     "name": "stdout",
     "output_type": "stream",
     "text": [
      "p value is 3.773053705715196e-26\n",
      "Dependent (reject H0)\n"
     ]
    }
   ],
   "source": [
    "chi_square_test(marital_status_risk_flag)"
   ]
  },
  {
   "cell_type": "code",
   "execution_count": 22,
   "id": "339849dc",
   "metadata": {
    "execution": {
     "iopub.execute_input": "2023-04-28T10:18:17.990284Z",
     "iopub.status.busy": "2023-04-28T10:18:17.988577Z",
     "iopub.status.idle": "2023-04-28T10:18:18.046609Z",
     "shell.execute_reply": "2023-04-28T10:18:18.045174Z"
    },
    "papermill": {
     "duration": 0.086599,
     "end_time": "2023-04-28T10:18:18.049471",
     "exception": false,
     "start_time": "2023-04-28T10:18:17.962872",
     "status": "completed"
    },
    "tags": []
   },
   "outputs": [
    {
     "data": {
      "text/html": [
       "<div>\n",
       "<style scoped>\n",
       "    .dataframe tbody tr th:only-of-type {\n",
       "        vertical-align: middle;\n",
       "    }\n",
       "\n",
       "    .dataframe tbody tr th {\n",
       "        vertical-align: top;\n",
       "    }\n",
       "\n",
       "    .dataframe thead th {\n",
       "        text-align: right;\n",
       "    }\n",
       "</style>\n",
       "<table border=\"1\" class=\"dataframe\">\n",
       "  <thead>\n",
       "    <tr style=\"text-align: right;\">\n",
       "      <th>Risk_Flag</th>\n",
       "      <th>0</th>\n",
       "      <th>1</th>\n",
       "    </tr>\n",
       "    <tr>\n",
       "      <th>House_Ownership</th>\n",
       "      <th></th>\n",
       "      <th></th>\n",
       "    </tr>\n",
       "  </thead>\n",
       "  <tbody>\n",
       "    <tr>\n",
       "      <th>norent_noown</th>\n",
       "      <td>6469</td>\n",
       "      <td>715</td>\n",
       "    </tr>\n",
       "    <tr>\n",
       "      <th>owned</th>\n",
       "      <td>11758</td>\n",
       "      <td>1160</td>\n",
       "    </tr>\n",
       "    <tr>\n",
       "      <th>rented</th>\n",
       "      <td>202777</td>\n",
       "      <td>29121</td>\n",
       "    </tr>\n",
       "  </tbody>\n",
       "</table>\n",
       "</div>"
      ],
      "text/plain": [
       "Risk_Flag             0      1\n",
       "House_Ownership               \n",
       "norent_noown       6469    715\n",
       "owned             11758   1160\n",
       "rented           202777  29121"
      ]
     },
     "execution_count": 22,
     "metadata": {},
     "output_type": "execute_result"
    }
   ],
   "source": [
    "house_ownership_risk_flag = pd.crosstab(df[\"House_Ownership\"], df[\"Risk_Flag\"])\n",
    "house_ownership_risk_flag"
   ]
  },
  {
   "cell_type": "code",
   "execution_count": 23,
   "id": "a078b995",
   "metadata": {
    "execution": {
     "iopub.execute_input": "2023-04-28T10:18:18.100361Z",
     "iopub.status.busy": "2023-04-28T10:18:18.099546Z",
     "iopub.status.idle": "2023-04-28T10:18:18.107170Z",
     "shell.execute_reply": "2023-04-28T10:18:18.105587Z"
    },
    "papermill": {
     "duration": 0.035869,
     "end_time": "2023-04-28T10:18:18.109780",
     "exception": false,
     "start_time": "2023-04-28T10:18:18.073911",
     "status": "completed"
    },
    "tags": []
   },
   "outputs": [
    {
     "name": "stdout",
     "output_type": "stream",
     "text": [
      "p value is 1.8381930028370595e-40\n",
      "Dependent (reject H0)\n"
     ]
    }
   ],
   "source": [
    "chi_square_test(house_ownership_risk_flag)"
   ]
  },
  {
   "cell_type": "markdown",
   "id": "c3b50ece",
   "metadata": {
    "papermill": {
     "duration": 0.02399,
     "end_time": "2023-04-28T10:18:18.158992",
     "exception": false,
     "start_time": "2023-04-28T10:18:18.135002",
     "status": "completed"
    },
    "tags": []
   },
   "source": [
    "### Performing Principal Component Analysis on CURRENT_JOB_YRS and Experience"
   ]
  },
  {
   "cell_type": "code",
   "execution_count": 24,
   "id": "ed416e35",
   "metadata": {
    "execution": {
     "iopub.execute_input": "2023-04-28T10:18:18.210946Z",
     "iopub.status.busy": "2023-04-28T10:18:18.210527Z",
     "iopub.status.idle": "2023-04-28T10:18:18.233710Z",
     "shell.execute_reply": "2023-04-28T10:18:18.232714Z"
    },
    "papermill": {
     "duration": 0.053569,
     "end_time": "2023-04-28T10:18:18.236579",
     "exception": false,
     "start_time": "2023-04-28T10:18:18.183010",
     "status": "completed"
    },
    "tags": []
   },
   "outputs": [
    {
     "data": {
      "text/html": [
       "<div>\n",
       "<style scoped>\n",
       "    .dataframe tbody tr th:only-of-type {\n",
       "        vertical-align: middle;\n",
       "    }\n",
       "\n",
       "    .dataframe tbody tr th {\n",
       "        vertical-align: top;\n",
       "    }\n",
       "\n",
       "    .dataframe thead th {\n",
       "        text-align: right;\n",
       "    }\n",
       "</style>\n",
       "<table border=\"1\" class=\"dataframe\">\n",
       "  <thead>\n",
       "    <tr style=\"text-align: right;\">\n",
       "      <th></th>\n",
       "      <th>CURRENT_JOB_YRS</th>\n",
       "      <th>Experience</th>\n",
       "    </tr>\n",
       "  </thead>\n",
       "  <tbody>\n",
       "    <tr>\n",
       "      <th>0</th>\n",
       "      <td>-0.914129</td>\n",
       "      <td>-1.180230</td>\n",
       "    </tr>\n",
       "    <tr>\n",
       "      <th>1</th>\n",
       "      <td>0.731035</td>\n",
       "      <td>-0.014067</td>\n",
       "    </tr>\n",
       "    <tr>\n",
       "      <th>2</th>\n",
       "      <td>-0.639935</td>\n",
       "      <td>-1.013635</td>\n",
       "    </tr>\n",
       "    <tr>\n",
       "      <th>3</th>\n",
       "      <td>-1.188323</td>\n",
       "      <td>-1.346825</td>\n",
       "    </tr>\n",
       "    <tr>\n",
       "      <th>4</th>\n",
       "      <td>-0.914129</td>\n",
       "      <td>0.152528</td>\n",
       "    </tr>\n",
       "    <tr>\n",
       "      <th>...</th>\n",
       "      <td>...</td>\n",
       "      <td>...</td>\n",
       "    </tr>\n",
       "    <tr>\n",
       "      <th>251995</th>\n",
       "      <td>-0.091547</td>\n",
       "      <td>0.485718</td>\n",
       "    </tr>\n",
       "    <tr>\n",
       "      <th>251996</th>\n",
       "      <td>-0.091547</td>\n",
       "      <td>-0.014067</td>\n",
       "    </tr>\n",
       "    <tr>\n",
       "      <th>251997</th>\n",
       "      <td>0.182647</td>\n",
       "      <td>-0.513851</td>\n",
       "    </tr>\n",
       "    <tr>\n",
       "      <th>251998</th>\n",
       "      <td>-1.736711</td>\n",
       "      <td>-1.680014</td>\n",
       "    </tr>\n",
       "    <tr>\n",
       "      <th>251999</th>\n",
       "      <td>0.182647</td>\n",
       "      <td>1.152097</td>\n",
       "    </tr>\n",
       "  </tbody>\n",
       "</table>\n",
       "<p>252000 rows × 2 columns</p>\n",
       "</div>"
      ],
      "text/plain": [
       "        CURRENT_JOB_YRS  Experience\n",
       "0             -0.914129   -1.180230\n",
       "1              0.731035   -0.014067\n",
       "2             -0.639935   -1.013635\n",
       "3             -1.188323   -1.346825\n",
       "4             -0.914129    0.152528\n",
       "...                 ...         ...\n",
       "251995        -0.091547    0.485718\n",
       "251996        -0.091547   -0.014067\n",
       "251997         0.182647   -0.513851\n",
       "251998        -1.736711   -1.680014\n",
       "251999         0.182647    1.152097\n",
       "\n",
       "[252000 rows x 2 columns]"
      ]
     },
     "execution_count": 24,
     "metadata": {},
     "output_type": "execute_result"
    }
   ],
   "source": [
    "features = [\"CURRENT_JOB_YRS\",\"Experience\"]\n",
    "\n",
    "df_for_pca = df[features]\n",
    "scaled_df_for_pca = (df_for_pca - df_for_pca.mean(axis=0))/df_for_pca.std()\n",
    "scaled_df_for_pca"
   ]
  },
  {
   "cell_type": "code",
   "execution_count": 25,
   "id": "f5b567e6",
   "metadata": {
    "execution": {
     "iopub.execute_input": "2023-04-28T10:18:18.290458Z",
     "iopub.status.busy": "2023-04-28T10:18:18.289460Z",
     "iopub.status.idle": "2023-04-28T10:18:18.332297Z",
     "shell.execute_reply": "2023-04-28T10:18:18.329915Z"
    },
    "papermill": {
     "duration": 0.075931,
     "end_time": "2023-04-28T10:18:18.338173",
     "exception": false,
     "start_time": "2023-04-28T10:18:18.262242",
     "status": "completed"
    },
    "tags": []
   },
   "outputs": [
    {
     "data": {
      "text/html": [
       "<div>\n",
       "<style scoped>\n",
       "    .dataframe tbody tr th:only-of-type {\n",
       "        vertical-align: middle;\n",
       "    }\n",
       "\n",
       "    .dataframe tbody tr th {\n",
       "        vertical-align: top;\n",
       "    }\n",
       "\n",
       "    .dataframe thead th {\n",
       "        text-align: right;\n",
       "    }\n",
       "</style>\n",
       "<table border=\"1\" class=\"dataframe\">\n",
       "  <thead>\n",
       "    <tr style=\"text-align: right;\">\n",
       "      <th></th>\n",
       "      <th>PC1</th>\n",
       "      <th>PC2</th>\n",
       "    </tr>\n",
       "  </thead>\n",
       "  <tbody>\n",
       "    <tr>\n",
       "      <th>0</th>\n",
       "      <td>-1.480935</td>\n",
       "      <td>-0.188162</td>\n",
       "    </tr>\n",
       "    <tr>\n",
       "      <th>1</th>\n",
       "      <td>0.506973</td>\n",
       "      <td>-0.526866</td>\n",
       "    </tr>\n",
       "    <tr>\n",
       "      <th>2</th>\n",
       "      <td>-1.169251</td>\n",
       "      <td>-0.264246</td>\n",
       "    </tr>\n",
       "    <tr>\n",
       "      <th>3</th>\n",
       "      <td>-1.792620</td>\n",
       "      <td>-0.112078</td>\n",
       "    </tr>\n",
       "    <tr>\n",
       "      <th>4</th>\n",
       "      <td>-0.538533</td>\n",
       "      <td>0.754240</td>\n",
       "    </tr>\n",
       "  </tbody>\n",
       "</table>\n",
       "</div>"
      ],
      "text/plain": [
       "        PC1       PC2\n",
       "0 -1.480935 -0.188162\n",
       "1  0.506973 -0.526866\n",
       "2 -1.169251 -0.264246\n",
       "3 -1.792620 -0.112078\n",
       "4 -0.538533  0.754240"
      ]
     },
     "execution_count": 25,
     "metadata": {},
     "output_type": "execute_result"
    }
   ],
   "source": [
    "pca = PCA()\n",
    "df_pca = pca.fit_transform(scaled_df_for_pca)\n",
    "component_names = [f\"PC{i+1}\" for i in range(df_pca.shape[1])]\n",
    "df_pca = pd.DataFrame(df_pca, columns=component_names)\n",
    "\n",
    "df_pca.head()"
   ]
  },
  {
   "cell_type": "code",
   "execution_count": 26,
   "id": "d2dcb07a",
   "metadata": {
    "execution": {
     "iopub.execute_input": "2023-04-28T10:18:18.449043Z",
     "iopub.status.busy": "2023-04-28T10:18:18.448565Z",
     "iopub.status.idle": "2023-04-28T10:18:18.499096Z",
     "shell.execute_reply": "2023-04-28T10:18:18.497801Z"
    },
    "papermill": {
     "duration": 0.097243,
     "end_time": "2023-04-28T10:18:18.501826",
     "exception": false,
     "start_time": "2023-04-28T10:18:18.404583",
     "status": "completed"
    },
    "tags": []
   },
   "outputs": [
    {
     "data": {
      "text/html": [
       "<div>\n",
       "<style scoped>\n",
       "    .dataframe tbody tr th:only-of-type {\n",
       "        vertical-align: middle;\n",
       "    }\n",
       "\n",
       "    .dataframe tbody tr th {\n",
       "        vertical-align: top;\n",
       "    }\n",
       "\n",
       "    .dataframe thead th {\n",
       "        text-align: right;\n",
       "    }\n",
       "</style>\n",
       "<table border=\"1\" class=\"dataframe\">\n",
       "  <thead>\n",
       "    <tr style=\"text-align: right;\">\n",
       "      <th></th>\n",
       "      <th>Id</th>\n",
       "      <th>Income</th>\n",
       "      <th>Age</th>\n",
       "      <th>Experience</th>\n",
       "      <th>Married/Single</th>\n",
       "      <th>House_Ownership</th>\n",
       "      <th>Car_Ownership</th>\n",
       "      <th>Profession</th>\n",
       "      <th>CITY</th>\n",
       "      <th>STATE</th>\n",
       "      <th>CURRENT_JOB_YRS</th>\n",
       "      <th>CURRENT_HOUSE_YRS</th>\n",
       "      <th>Risk_Flag</th>\n",
       "      <th>PC1</th>\n",
       "      <th>PC2</th>\n",
       "    </tr>\n",
       "  </thead>\n",
       "  <tbody>\n",
       "    <tr>\n",
       "      <th>0</th>\n",
       "      <td>1</td>\n",
       "      <td>1303834</td>\n",
       "      <td>23</td>\n",
       "      <td>3</td>\n",
       "      <td>single</td>\n",
       "      <td>rented</td>\n",
       "      <td>no</td>\n",
       "      <td>Mechanical_engineer</td>\n",
       "      <td>Rewa</td>\n",
       "      <td>Madhya_Pradesh</td>\n",
       "      <td>3</td>\n",
       "      <td>13</td>\n",
       "      <td>0</td>\n",
       "      <td>-1.480935</td>\n",
       "      <td>-0.188162</td>\n",
       "    </tr>\n",
       "    <tr>\n",
       "      <th>1</th>\n",
       "      <td>2</td>\n",
       "      <td>7574516</td>\n",
       "      <td>40</td>\n",
       "      <td>10</td>\n",
       "      <td>single</td>\n",
       "      <td>rented</td>\n",
       "      <td>no</td>\n",
       "      <td>Software_Developer</td>\n",
       "      <td>Parbhani</td>\n",
       "      <td>Maharashtra</td>\n",
       "      <td>9</td>\n",
       "      <td>13</td>\n",
       "      <td>0</td>\n",
       "      <td>0.506973</td>\n",
       "      <td>-0.526866</td>\n",
       "    </tr>\n",
       "    <tr>\n",
       "      <th>2</th>\n",
       "      <td>3</td>\n",
       "      <td>3991815</td>\n",
       "      <td>66</td>\n",
       "      <td>4</td>\n",
       "      <td>married</td>\n",
       "      <td>rented</td>\n",
       "      <td>no</td>\n",
       "      <td>Technical_writer</td>\n",
       "      <td>Alappuzha</td>\n",
       "      <td>Kerala</td>\n",
       "      <td>4</td>\n",
       "      <td>10</td>\n",
       "      <td>0</td>\n",
       "      <td>-1.169251</td>\n",
       "      <td>-0.264246</td>\n",
       "    </tr>\n",
       "    <tr>\n",
       "      <th>3</th>\n",
       "      <td>4</td>\n",
       "      <td>6256451</td>\n",
       "      <td>41</td>\n",
       "      <td>2</td>\n",
       "      <td>single</td>\n",
       "      <td>rented</td>\n",
       "      <td>yes</td>\n",
       "      <td>Software_Developer</td>\n",
       "      <td>Bhubaneswar</td>\n",
       "      <td>Odisha</td>\n",
       "      <td>2</td>\n",
       "      <td>12</td>\n",
       "      <td>1</td>\n",
       "      <td>-1.792620</td>\n",
       "      <td>-0.112078</td>\n",
       "    </tr>\n",
       "    <tr>\n",
       "      <th>4</th>\n",
       "      <td>5</td>\n",
       "      <td>5768871</td>\n",
       "      <td>47</td>\n",
       "      <td>11</td>\n",
       "      <td>single</td>\n",
       "      <td>rented</td>\n",
       "      <td>no</td>\n",
       "      <td>Civil_servant</td>\n",
       "      <td>Tiruchirappalli[10]</td>\n",
       "      <td>Tamil_Nadu</td>\n",
       "      <td>3</td>\n",
       "      <td>14</td>\n",
       "      <td>1</td>\n",
       "      <td>-0.538533</td>\n",
       "      <td>0.754240</td>\n",
       "    </tr>\n",
       "  </tbody>\n",
       "</table>\n",
       "</div>"
      ],
      "text/plain": [
       "   Id   Income  Age  Experience Married/Single House_Ownership Car_Ownership  \\\n",
       "0   1  1303834   23           3         single          rented            no   \n",
       "1   2  7574516   40          10         single          rented            no   \n",
       "2   3  3991815   66           4        married          rented            no   \n",
       "3   4  6256451   41           2         single          rented           yes   \n",
       "4   5  5768871   47          11         single          rented            no   \n",
       "\n",
       "            Profession                 CITY           STATE  CURRENT_JOB_YRS  \\\n",
       "0  Mechanical_engineer                 Rewa  Madhya_Pradesh                3   \n",
       "1   Software_Developer             Parbhani     Maharashtra                9   \n",
       "2     Technical_writer            Alappuzha          Kerala                4   \n",
       "3   Software_Developer          Bhubaneswar          Odisha                2   \n",
       "4        Civil_servant  Tiruchirappalli[10]      Tamil_Nadu                3   \n",
       "\n",
       "   CURRENT_HOUSE_YRS  Risk_Flag       PC1       PC2  \n",
       "0                 13          0 -1.480935 -0.188162  \n",
       "1                 13          0  0.506973 -0.526866  \n",
       "2                 10          0 -1.169251 -0.264246  \n",
       "3                 12          1 -1.792620 -0.112078  \n",
       "4                 14          1 -0.538533  0.754240  "
      ]
     },
     "execution_count": 26,
     "metadata": {},
     "output_type": "execute_result"
    }
   ],
   "source": [
    "df1 = pd.concat([df,df_pca],axis=1)\n",
    "df1.head()"
   ]
  },
  {
   "cell_type": "markdown",
   "id": "825770bb",
   "metadata": {
    "papermill": {
     "duration": 0.024436,
     "end_time": "2023-04-28T10:18:18.551271",
     "exception": false,
     "start_time": "2023-04-28T10:18:18.526835",
     "status": "completed"
    },
    "tags": []
   },
   "source": [
    "Label encoding for categorical variables"
   ]
  },
  {
   "cell_type": "code",
   "execution_count": 27,
   "id": "e1ed3404",
   "metadata": {
    "execution": {
     "iopub.execute_input": "2023-04-28T10:18:18.603265Z",
     "iopub.status.busy": "2023-04-28T10:18:18.602789Z",
     "iopub.status.idle": "2023-04-28T10:18:19.002903Z",
     "shell.execute_reply": "2023-04-28T10:18:19.001604Z"
    },
    "papermill": {
     "duration": 0.429441,
     "end_time": "2023-04-28T10:18:19.005745",
     "exception": false,
     "start_time": "2023-04-28T10:18:18.576304",
     "status": "completed"
    },
    "tags": []
   },
   "outputs": [],
   "source": [
    "features = ['Married/Single','Car_Ownership','Profession','CITY','STATE']\n",
    "label_encoder = LabelEncoder()\n",
    "\n",
    "for col in features:\n",
    "    df1[col] = label_encoder.fit_transform(df1[col])"
   ]
  },
  {
   "cell_type": "code",
   "execution_count": 28,
   "id": "3d63e59b",
   "metadata": {
    "execution": {
     "iopub.execute_input": "2023-04-28T10:18:19.058848Z",
     "iopub.status.busy": "2023-04-28T10:18:19.057749Z",
     "iopub.status.idle": "2023-04-28T10:18:19.149456Z",
     "shell.execute_reply": "2023-04-28T10:18:19.148121Z"
    },
    "papermill": {
     "duration": 0.121345,
     "end_time": "2023-04-28T10:18:19.152462",
     "exception": false,
     "start_time": "2023-04-28T10:18:19.031117",
     "status": "completed"
    },
    "tags": []
   },
   "outputs": [],
   "source": [
    "df2 = pd.get_dummies(df1, columns = [\"House_Ownership\"])\n",
    "df2.drop([\"Id\"],axis=1,inplace=True)"
   ]
  },
  {
   "cell_type": "code",
   "execution_count": 29,
   "id": "09f2782f",
   "metadata": {
    "execution": {
     "iopub.execute_input": "2023-04-28T10:18:19.205215Z",
     "iopub.status.busy": "2023-04-28T10:18:19.204424Z",
     "iopub.status.idle": "2023-04-28T10:18:19.271374Z",
     "shell.execute_reply": "2023-04-28T10:18:19.269928Z"
    },
    "papermill": {
     "duration": 0.096677,
     "end_time": "2023-04-28T10:18:19.274184",
     "exception": false,
     "start_time": "2023-04-28T10:18:19.177507",
     "status": "completed"
    },
    "tags": []
   },
   "outputs": [],
   "source": [
    "X = df2.drop(['Risk_Flag'],axis=1)\n",
    "y = df2.Risk_Flag\n",
    "X_train, X_test, y_train, y_test = train_test_split(X, y, test_size = 0.3, random_state = 0)"
   ]
  },
  {
   "cell_type": "code",
   "execution_count": 30,
   "id": "d989672d",
   "metadata": {
    "execution": {
     "iopub.execute_input": "2023-04-28T10:18:19.326841Z",
     "iopub.status.busy": "2023-04-28T10:18:19.326366Z",
     "iopub.status.idle": "2023-04-28T10:18:19.742036Z",
     "shell.execute_reply": "2023-04-28T10:18:19.740664Z"
    },
    "papermill": {
     "duration": 0.445291,
     "end_time": "2023-04-28T10:18:19.744828",
     "exception": false,
     "start_time": "2023-04-28T10:18:19.299537",
     "status": "completed"
    },
    "tags": []
   },
   "outputs": [],
   "source": [
    "sm = SMOTE(random_state = 500)\n",
    "X_res, y_res = sm.fit_resample(X_train, y_train)"
   ]
  },
  {
   "cell_type": "markdown",
   "id": "065b88e7",
   "metadata": {
    "papermill": {
     "duration": 0.025295,
     "end_time": "2023-04-28T10:18:19.795392",
     "exception": false,
     "start_time": "2023-04-28T10:18:19.770097",
     "status": "completed"
    },
    "tags": []
   },
   "source": [
    "Now the data is ready for implementation of Machine Learning model!!<br>\n",
    "Since the target variable is either 0 or 1, So we will use ml models which is suitable for binary classification"
   ]
  },
  {
   "cell_type": "markdown",
   "id": "7feebc5d",
   "metadata": {
    "papermill": {
     "duration": 0.025272,
     "end_time": "2023-04-28T10:18:19.845950",
     "exception": false,
     "start_time": "2023-04-28T10:18:19.820678",
     "status": "completed"
    },
    "tags": []
   },
   "source": [
    "### Machine learning model for Binary classification "
   ]
  },
  {
   "cell_type": "markdown",
   "id": "20ef28cf",
   "metadata": {
    "papermill": {
     "duration": 0.025901,
     "end_time": "2023-04-28T10:18:19.897192",
     "exception": false,
     "start_time": "2023-04-28T10:18:19.871291",
     "status": "completed"
    },
    "tags": []
   },
   "source": [
    "### Logistic Regression"
   ]
  },
  {
   "cell_type": "code",
   "execution_count": 31,
   "id": "d178c8c4",
   "metadata": {
    "execution": {
     "iopub.execute_input": "2023-04-28T10:18:19.951320Z",
     "iopub.status.busy": "2023-04-28T10:18:19.950083Z",
     "iopub.status.idle": "2023-04-28T10:18:20.510196Z",
     "shell.execute_reply": "2023-04-28T10:18:20.508090Z"
    },
    "papermill": {
     "duration": 0.592114,
     "end_time": "2023-04-28T10:18:20.514881",
     "exception": false,
     "start_time": "2023-04-28T10:18:19.922767",
     "status": "completed"
    },
    "tags": []
   },
   "outputs": [
    {
     "data": {
      "text/plain": [
       "0.8774867724867725"
      ]
     },
     "execution_count": 31,
     "metadata": {},
     "output_type": "execute_result"
    }
   ],
   "source": [
    "from sklearn.linear_model import LogisticRegression\n",
    "\n",
    "model = LogisticRegression(max_iter = 500000)\n",
    "model.fit(X_res, y_res)\n",
    "y_pred = model.predict(X_test)\n",
    "accuracy = model.score(X_test, y_test)\n",
    "accuracy"
   ]
  },
  {
   "cell_type": "code",
   "execution_count": 32,
   "id": "b0e1e7f1",
   "metadata": {
    "execution": {
     "iopub.execute_input": "2023-04-28T10:18:20.627109Z",
     "iopub.status.busy": "2023-04-28T10:18:20.626643Z",
     "iopub.status.idle": "2023-04-28T10:18:20.730609Z",
     "shell.execute_reply": "2023-04-28T10:18:20.728991Z"
    },
    "papermill": {
     "duration": 0.154066,
     "end_time": "2023-04-28T10:18:20.734145",
     "exception": false,
     "start_time": "2023-04-28T10:18:20.580079",
     "status": "completed"
    },
    "tags": []
   },
   "outputs": [
    {
     "name": "stdout",
     "output_type": "stream",
     "text": [
      "              precision    recall  f1-score   support\n",
      "\n",
      "           0       0.88      1.00      0.93     66338\n",
      "           1       0.00      0.00      0.00      9262\n",
      "\n",
      "    accuracy                           0.88     75600\n",
      "   macro avg       0.44      0.50      0.47     75600\n",
      "weighted avg       0.77      0.88      0.82     75600\n",
      "\n"
     ]
    },
    {
     "name": "stderr",
     "output_type": "stream",
     "text": [
      "/opt/conda/lib/python3.7/site-packages/sklearn/metrics/_classification.py:1318: UndefinedMetricWarning: Precision and F-score are ill-defined and being set to 0.0 in labels with no predicted samples. Use `zero_division` parameter to control this behavior.\n",
      "  _warn_prf(average, modifier, msg_start, len(result))\n",
      "/opt/conda/lib/python3.7/site-packages/sklearn/metrics/_classification.py:1318: UndefinedMetricWarning: Precision and F-score are ill-defined and being set to 0.0 in labels with no predicted samples. Use `zero_division` parameter to control this behavior.\n",
      "  _warn_prf(average, modifier, msg_start, len(result))\n",
      "/opt/conda/lib/python3.7/site-packages/sklearn/metrics/_classification.py:1318: UndefinedMetricWarning: Precision and F-score are ill-defined and being set to 0.0 in labels with no predicted samples. Use `zero_division` parameter to control this behavior.\n",
      "  _warn_prf(average, modifier, msg_start, len(result))\n"
     ]
    }
   ],
   "source": [
    "print(classification_report(y_test,y_pred))"
   ]
  },
  {
   "cell_type": "markdown",
   "id": "f5e3a637",
   "metadata": {
    "papermill": {
     "duration": 0.025865,
     "end_time": "2023-04-28T10:18:20.785293",
     "exception": false,
     "start_time": "2023-04-28T10:18:20.759428",
     "status": "completed"
    },
    "tags": []
   },
   "source": [
    "### KNN"
   ]
  },
  {
   "cell_type": "code",
   "execution_count": 33,
   "id": "2f319390",
   "metadata": {
    "execution": {
     "iopub.execute_input": "2023-04-28T10:18:20.838873Z",
     "iopub.status.busy": "2023-04-28T10:18:20.838087Z",
     "iopub.status.idle": "2023-04-28T10:18:27.831632Z",
     "shell.execute_reply": "2023-04-28T10:18:27.830349Z"
    },
    "papermill": {
     "duration": 7.023588,
     "end_time": "2023-04-28T10:18:27.834303",
     "exception": false,
     "start_time": "2023-04-28T10:18:20.810715",
     "status": "completed"
    },
    "tags": []
   },
   "outputs": [
    {
     "data": {
      "text/plain": [
       "0.8600529100529101"
      ]
     },
     "execution_count": 33,
     "metadata": {},
     "output_type": "execute_result"
    }
   ],
   "source": [
    "from sklearn.neighbors import KNeighborsClassifier\n",
    "\n",
    "model = KNeighborsClassifier(n_neighbors=5,metric='minkowski',p=2)\n",
    "model.fit(X_res, y_res)\n",
    "y_pred = model.predict(X_test)\n",
    "accuracy = model.score(X_test, y_test)\n",
    "accuracy"
   ]
  },
  {
   "cell_type": "code",
   "execution_count": 34,
   "id": "49cef0fd",
   "metadata": {
    "execution": {
     "iopub.execute_input": "2023-04-28T10:18:27.889327Z",
     "iopub.status.busy": "2023-04-28T10:18:27.888628Z",
     "iopub.status.idle": "2023-04-28T10:18:28.002008Z",
     "shell.execute_reply": "2023-04-28T10:18:28.000845Z"
    },
    "papermill": {
     "duration": 0.143961,
     "end_time": "2023-04-28T10:18:28.004619",
     "exception": false,
     "start_time": "2023-04-28T10:18:27.860658",
     "status": "completed"
    },
    "tags": []
   },
   "outputs": [
    {
     "name": "stdout",
     "output_type": "stream",
     "text": [
      "              precision    recall  f1-score   support\n",
      "\n",
      "           0       0.94      0.90      0.92     66338\n",
      "           1       0.45      0.60      0.51      9262\n",
      "\n",
      "    accuracy                           0.86     75600\n",
      "   macro avg       0.69      0.75      0.72     75600\n",
      "weighted avg       0.88      0.86      0.87     75600\n",
      "\n"
     ]
    }
   ],
   "source": [
    "print(classification_report(y_test,y_pred))"
   ]
  },
  {
   "cell_type": "markdown",
   "id": "e4bbf9bc",
   "metadata": {
    "papermill": {
     "duration": 0.025268,
     "end_time": "2023-04-28T10:18:28.055664",
     "exception": false,
     "start_time": "2023-04-28T10:18:28.030396",
     "status": "completed"
    },
    "tags": []
   },
   "source": [
    "### Random Forest Classification"
   ]
  },
  {
   "cell_type": "code",
   "execution_count": 35,
   "id": "54c0174a",
   "metadata": {
    "execution": {
     "iopub.execute_input": "2023-04-28T10:18:28.110130Z",
     "iopub.status.busy": "2023-04-28T10:18:28.109442Z",
     "iopub.status.idle": "2023-04-28T10:19:58.253528Z",
     "shell.execute_reply": "2023-04-28T10:19:58.251955Z"
    },
    "papermill": {
     "duration": 90.201385,
     "end_time": "2023-04-28T10:19:58.282694",
     "exception": false,
     "start_time": "2023-04-28T10:18:28.081309",
     "status": "completed"
    },
    "tags": []
   },
   "outputs": [
    {
     "data": {
      "text/plain": [
       "0.8830026455026455"
      ]
     },
     "execution_count": 35,
     "metadata": {},
     "output_type": "execute_result"
    }
   ],
   "source": [
    "from sklearn.ensemble import RandomForestClassifier\n",
    "\n",
    "model = RandomForestClassifier(criterion='gini', bootstrap=True, random_state=420)\n",
    "model.fit(X_res, y_res)\n",
    "y_pred = model.predict(X_test)\n",
    "accuracy = model.score(X_test, y_test)\n",
    "accuracy"
   ]
  },
  {
   "cell_type": "code",
   "execution_count": 36,
   "id": "b839d46b",
   "metadata": {
    "execution": {
     "iopub.execute_input": "2023-04-28T10:19:58.337330Z",
     "iopub.status.busy": "2023-04-28T10:19:58.336900Z",
     "iopub.status.idle": "2023-04-28T10:19:58.452675Z",
     "shell.execute_reply": "2023-04-28T10:19:58.451150Z"
    },
    "papermill": {
     "duration": 0.146519,
     "end_time": "2023-04-28T10:19:58.455650",
     "exception": false,
     "start_time": "2023-04-28T10:19:58.309131",
     "status": "completed"
    },
    "tags": []
   },
   "outputs": [
    {
     "name": "stdout",
     "output_type": "stream",
     "text": [
      "              precision    recall  f1-score   support\n",
      "\n",
      "           0       0.97      0.89      0.93     66338\n",
      "           1       0.51      0.81      0.63      9262\n",
      "\n",
      "    accuracy                           0.88     75600\n",
      "   macro avg       0.74      0.85      0.78     75600\n",
      "weighted avg       0.91      0.88      0.89     75600\n",
      "\n"
     ]
    }
   ],
   "source": [
    "print(classification_report(y_test,y_pred))"
   ]
  },
  {
   "cell_type": "markdown",
   "id": "2cfb7880",
   "metadata": {
    "papermill": {
     "duration": 0.025587,
     "end_time": "2023-04-28T10:19:58.507124",
     "exception": false,
     "start_time": "2023-04-28T10:19:58.481537",
     "status": "completed"
    },
    "tags": []
   },
   "source": [
    "### Decision Tree"
   ]
  },
  {
   "cell_type": "code",
   "execution_count": 37,
   "id": "9498617b",
   "metadata": {
    "execution": {
     "iopub.execute_input": "2023-04-28T10:19:58.563638Z",
     "iopub.status.busy": "2023-04-28T10:19:58.562910Z",
     "iopub.status.idle": "2023-04-28T10:20:03.988878Z",
     "shell.execute_reply": "2023-04-28T10:20:03.987856Z"
    },
    "papermill": {
     "duration": 5.457852,
     "end_time": "2023-04-28T10:20:03.991632",
     "exception": false,
     "start_time": "2023-04-28T10:19:58.533780",
     "status": "completed"
    },
    "tags": []
   },
   "outputs": [
    {
     "data": {
      "text/plain": [
       "0.8658201058201058"
      ]
     },
     "execution_count": 37,
     "metadata": {},
     "output_type": "execute_result"
    }
   ],
   "source": [
    "from sklearn.tree import DecisionTreeClassifier\n",
    "\n",
    "model = DecisionTreeClassifier(criterion=\"entropy\",random_state=420)\n",
    "model.fit(X_res, y_res)\n",
    "y_pred = model.predict(X_test)\n",
    "accuracy = model.score(X_test, y_test)\n",
    "accuracy"
   ]
  },
  {
   "cell_type": "code",
   "execution_count": 38,
   "id": "8b3adb74",
   "metadata": {
    "execution": {
     "iopub.execute_input": "2023-04-28T10:20:04.044463Z",
     "iopub.status.busy": "2023-04-28T10:20:04.044020Z",
     "iopub.status.idle": "2023-04-28T10:20:04.165349Z",
     "shell.execute_reply": "2023-04-28T10:20:04.163819Z"
    },
    "papermill": {
     "duration": 0.151017,
     "end_time": "2023-04-28T10:20:04.168054",
     "exception": false,
     "start_time": "2023-04-28T10:20:04.017037",
     "status": "completed"
    },
    "tags": []
   },
   "outputs": [
    {
     "name": "stdout",
     "output_type": "stream",
     "text": [
      "              precision    recall  f1-score   support\n",
      "\n",
      "           0       0.98      0.87      0.92     66338\n",
      "           1       0.47      0.85      0.61      9262\n",
      "\n",
      "    accuracy                           0.87     75600\n",
      "   macro avg       0.73      0.86      0.76     75600\n",
      "weighted avg       0.92      0.87      0.88     75600\n",
      "\n"
     ]
    }
   ],
   "source": [
    "print(classification_report(y_test,y_pred))"
   ]
  },
  {
   "cell_type": "markdown",
   "id": "bb94de03",
   "metadata": {
    "papermill": {
     "duration": 0.026405,
     "end_time": "2023-04-28T10:20:04.221303",
     "exception": false,
     "start_time": "2023-04-28T10:20:04.194898",
     "status": "completed"
    },
    "tags": []
   },
   "source": [
    "### XGBoost"
   ]
  },
  {
   "cell_type": "code",
   "execution_count": 39,
   "id": "75fc7ef7",
   "metadata": {
    "execution": {
     "iopub.execute_input": "2023-04-28T10:20:04.275603Z",
     "iopub.status.busy": "2023-04-28T10:20:04.274734Z",
     "iopub.status.idle": "2023-04-28T10:23:24.585011Z",
     "shell.execute_reply": "2023-04-28T10:23:24.583563Z"
    },
    "papermill": {
     "duration": 200.361579,
     "end_time": "2023-04-28T10:23:24.608751",
     "exception": false,
     "start_time": "2023-04-28T10:20:04.247172",
     "status": "completed"
    },
    "tags": []
   },
   "outputs": [
    {
     "data": {
      "text/plain": [
       "0.8908862433862433"
      ]
     },
     "execution_count": 39,
     "metadata": {},
     "output_type": "execute_result"
    }
   ],
   "source": [
    "from xgboost import XGBClassifier\n",
    "\n",
    "xg_model = XGBClassifier(learning_rate=0.1,n_estimators=1000,use_label_encoder=False,random_state=420)\n",
    "xg_model.fit(X_res, y_res)\n",
    "y_pred = xg_model.predict(X_test)\n",
    "accuracy = xg_model.score(X_test, y_test)\n",
    "accuracy"
   ]
  },
  {
   "cell_type": "code",
   "execution_count": 40,
   "id": "196fafa0",
   "metadata": {
    "execution": {
     "iopub.execute_input": "2023-04-28T10:23:24.663231Z",
     "iopub.status.busy": "2023-04-28T10:23:24.662747Z",
     "iopub.status.idle": "2023-04-28T10:23:24.778734Z",
     "shell.execute_reply": "2023-04-28T10:23:24.777266Z"
    },
    "papermill": {
     "duration": 0.146576,
     "end_time": "2023-04-28T10:23:24.781541",
     "exception": false,
     "start_time": "2023-04-28T10:23:24.634965",
     "status": "completed"
    },
    "tags": []
   },
   "outputs": [
    {
     "name": "stdout",
     "output_type": "stream",
     "text": [
      "              precision    recall  f1-score   support\n",
      "\n",
      "           0       0.97      0.91      0.94     66338\n",
      "           1       0.54      0.78      0.64      9262\n",
      "\n",
      "    accuracy                           0.89     75600\n",
      "   macro avg       0.75      0.84      0.79     75600\n",
      "weighted avg       0.91      0.89      0.90     75600\n",
      "\n"
     ]
    }
   ],
   "source": [
    "print(classification_report(y_test,y_pred))"
   ]
  },
  {
   "cell_type": "markdown",
   "id": "f475a3ed",
   "metadata": {
    "papermill": {
     "duration": 0.026348,
     "end_time": "2023-04-28T10:23:24.833883",
     "exception": false,
     "start_time": "2023-04-28T10:23:24.807535",
     "status": "completed"
    },
    "tags": []
   },
   "source": [
    "### AdaBoost Classifier"
   ]
  },
  {
   "cell_type": "code",
   "execution_count": 41,
   "id": "dfbb14b6",
   "metadata": {
    "execution": {
     "iopub.execute_input": "2023-04-28T10:23:24.889197Z",
     "iopub.status.busy": "2023-04-28T10:23:24.887922Z",
     "iopub.status.idle": "2023-04-28T10:23:48.640504Z",
     "shell.execute_reply": "2023-04-28T10:23:48.639163Z"
    },
    "papermill": {
     "duration": 23.783506,
     "end_time": "2023-04-28T10:23:48.643224",
     "exception": false,
     "start_time": "2023-04-28T10:23:24.859718",
     "status": "completed"
    },
    "tags": []
   },
   "outputs": [
    {
     "data": {
      "text/plain": [
       "0.5624206349206349"
      ]
     },
     "execution_count": 41,
     "metadata": {},
     "output_type": "execute_result"
    }
   ],
   "source": [
    "from sklearn.ensemble import AdaBoostClassifier\n",
    "\n",
    "model = AdaBoostClassifier(random_state=15000)\n",
    "model.fit(X_res, y_res)\n",
    "y_pred = model.predict(X_test)\n",
    "accuracy = model.score(X_test, y_test)\n",
    "accuracy"
   ]
  },
  {
   "cell_type": "code",
   "execution_count": 42,
   "id": "2fe5828e",
   "metadata": {
    "execution": {
     "iopub.execute_input": "2023-04-28T10:23:48.698534Z",
     "iopub.status.busy": "2023-04-28T10:23:48.697671Z",
     "iopub.status.idle": "2023-04-28T10:23:48.822734Z",
     "shell.execute_reply": "2023-04-28T10:23:48.821199Z"
    },
    "papermill": {
     "duration": 0.155698,
     "end_time": "2023-04-28T10:23:48.825506",
     "exception": false,
     "start_time": "2023-04-28T10:23:48.669808",
     "status": "completed"
    },
    "tags": []
   },
   "outputs": [
    {
     "name": "stdout",
     "output_type": "stream",
     "text": [
      "              precision    recall  f1-score   support\n",
      "\n",
      "           0       0.89      0.57      0.70     66338\n",
      "           1       0.14      0.52      0.23      9262\n",
      "\n",
      "    accuracy                           0.56     75600\n",
      "   macro avg       0.52      0.54      0.46     75600\n",
      "weighted avg       0.80      0.56      0.64     75600\n",
      "\n"
     ]
    }
   ],
   "source": [
    "print(classification_report(y_test,y_pred))"
   ]
  },
  {
   "cell_type": "markdown",
   "id": "dc0ff970",
   "metadata": {
    "papermill": {
     "duration": 0.025666,
     "end_time": "2023-04-28T10:23:48.877619",
     "exception": false,
     "start_time": "2023-04-28T10:23:48.851953",
     "status": "completed"
    },
    "tags": []
   },
   "source": [
    "### Passive Aggressive Classifier"
   ]
  },
  {
   "cell_type": "code",
   "execution_count": 43,
   "id": "cd96aac1",
   "metadata": {
    "execution": {
     "iopub.execute_input": "2023-04-28T10:23:48.932416Z",
     "iopub.status.busy": "2023-04-28T10:23:48.931558Z",
     "iopub.status.idle": "2023-04-28T10:23:50.437992Z",
     "shell.execute_reply": "2023-04-28T10:23:50.436054Z"
    },
    "papermill": {
     "duration": 1.539489,
     "end_time": "2023-04-28T10:23:50.443128",
     "exception": false,
     "start_time": "2023-04-28T10:23:48.903639",
     "status": "completed"
    },
    "tags": []
   },
   "outputs": [
    {
     "data": {
      "text/plain": [
       "0.8142328042328042"
      ]
     },
     "execution_count": 43,
     "metadata": {},
     "output_type": "execute_result"
    }
   ],
   "source": [
    "from sklearn.linear_model import PassiveAggressiveClassifier\n",
    "\n",
    "model = PassiveAggressiveClassifier(random_state=14500)\n",
    "model.fit(X_res, y_res)\n",
    "y_pred = model.predict(X_test)\n",
    "accuracy = model.score(X_test, y_test)\n",
    "accuracy"
   ]
  },
  {
   "cell_type": "code",
   "execution_count": 44,
   "id": "c5430dfd",
   "metadata": {
    "execution": {
     "iopub.execute_input": "2023-04-28T10:23:50.556684Z",
     "iopub.status.busy": "2023-04-28T10:23:50.556243Z",
     "iopub.status.idle": "2023-04-28T10:23:50.663823Z",
     "shell.execute_reply": "2023-04-28T10:23:50.662235Z"
    },
    "papermill": {
     "duration": 0.156755,
     "end_time": "2023-04-28T10:23:50.666731",
     "exception": false,
     "start_time": "2023-04-28T10:23:50.509976",
     "status": "completed"
    },
    "tags": []
   },
   "outputs": [
    {
     "name": "stdout",
     "output_type": "stream",
     "text": [
      "              precision    recall  f1-score   support\n",
      "\n",
      "           0       0.88      0.92      0.90     66338\n",
      "           1       0.13      0.09      0.11      9262\n",
      "\n",
      "    accuracy                           0.81     75600\n",
      "   macro avg       0.50      0.50      0.50     75600\n",
      "weighted avg       0.79      0.81      0.80     75600\n",
      "\n"
     ]
    }
   ],
   "source": [
    "print(classification_report(y_test,y_pred))"
   ]
  },
  {
   "cell_type": "code",
   "execution_count": 45,
   "id": "0e2d705b",
   "metadata": {
    "execution": {
     "iopub.execute_input": "2023-04-28T10:23:50.722668Z",
     "iopub.status.busy": "2023-04-28T10:23:50.721488Z",
     "iopub.status.idle": "2023-04-28T10:24:23.755245Z",
     "shell.execute_reply": "2023-04-28T10:24:23.754276Z"
    },
    "papermill": {
     "duration": 33.09023,
     "end_time": "2023-04-28T10:24:23.783924",
     "exception": false,
     "start_time": "2023-04-28T10:23:50.693694",
     "status": "completed"
    },
    "tags": []
   },
   "outputs": [
    {
     "data": {
      "text/plain": [
       "0.8773015873015872"
      ]
     },
     "execution_count": 45,
     "metadata": {},
     "output_type": "execute_result"
    }
   ],
   "source": [
    "from sklearn.ensemble import BaggingClassifier\n",
    "\n",
    "model = BaggingClassifier(random_state=14500)\n",
    "model.fit(X_res, y_res)\n",
    "y_pred = model.predict(X_test)\n",
    "accuracy = model.score(X_test, y_test)\n",
    "accuracy"
   ]
  },
  {
   "cell_type": "code",
   "execution_count": 46,
   "id": "d06166c7",
   "metadata": {
    "execution": {
     "iopub.execute_input": "2023-04-28T10:24:23.840576Z",
     "iopub.status.busy": "2023-04-28T10:24:23.839638Z",
     "iopub.status.idle": "2023-04-28T10:24:23.954862Z",
     "shell.execute_reply": "2023-04-28T10:24:23.953217Z"
    },
    "papermill": {
     "duration": 0.147176,
     "end_time": "2023-04-28T10:24:23.957522",
     "exception": false,
     "start_time": "2023-04-28T10:24:23.810346",
     "status": "completed"
    },
    "tags": []
   },
   "outputs": [
    {
     "name": "stdout",
     "output_type": "stream",
     "text": [
      "              precision    recall  f1-score   support\n",
      "\n",
      "           0       0.97      0.89      0.93     66338\n",
      "           1       0.50      0.82      0.62      9262\n",
      "\n",
      "    accuracy                           0.88     75600\n",
      "   macro avg       0.74      0.85      0.77     75600\n",
      "weighted avg       0.91      0.88      0.89     75600\n",
      "\n"
     ]
    }
   ],
   "source": [
    "print(classification_report(y_test,y_pred))"
   ]
  },
  {
   "cell_type": "markdown",
   "id": "d94910bf",
   "metadata": {
    "papermill": {
     "duration": 0.027105,
     "end_time": "2023-04-28T10:24:24.011362",
     "exception": false,
     "start_time": "2023-04-28T10:24:23.984257",
     "status": "completed"
    },
    "tags": []
   },
   "source": [
    "### Gradient Boosting"
   ]
  },
  {
   "cell_type": "code",
   "execution_count": 47,
   "id": "14682c40",
   "metadata": {
    "execution": {
     "iopub.execute_input": "2023-04-28T10:24:24.067979Z",
     "iopub.status.busy": "2023-04-28T10:24:24.066785Z",
     "iopub.status.idle": "2023-04-28T10:25:23.054315Z",
     "shell.execute_reply": "2023-04-28T10:25:23.052809Z"
    },
    "papermill": {
     "duration": 59.046021,
     "end_time": "2023-04-28T10:25:23.084376",
     "exception": false,
     "start_time": "2023-04-28T10:24:24.038355",
     "status": "completed"
    },
    "tags": []
   },
   "outputs": [
    {
     "data": {
      "text/plain": [
       "0.5946428571428571"
      ]
     },
     "execution_count": 47,
     "metadata": {},
     "output_type": "execute_result"
    }
   ],
   "source": [
    "from sklearn.ensemble import GradientBoostingClassifier\n",
    "\n",
    "model = GradientBoostingClassifier()\n",
    "model.fit(X_res, y_res)\n",
    "y_pred = model.predict(X_test)\n",
    "accuracy = model.score(X_test, y_test)\n",
    "accuracy"
   ]
  },
  {
   "cell_type": "code",
   "execution_count": 48,
   "id": "46a15297",
   "metadata": {
    "execution": {
     "iopub.execute_input": "2023-04-28T10:25:23.141794Z",
     "iopub.status.busy": "2023-04-28T10:25:23.141274Z",
     "iopub.status.idle": "2023-04-28T10:25:23.268685Z",
     "shell.execute_reply": "2023-04-28T10:25:23.267202Z"
    },
    "papermill": {
     "duration": 0.159269,
     "end_time": "2023-04-28T10:25:23.271377",
     "exception": false,
     "start_time": "2023-04-28T10:25:23.112108",
     "status": "completed"
    },
    "tags": []
   },
   "outputs": [
    {
     "name": "stdout",
     "output_type": "stream",
     "text": [
      "              precision    recall  f1-score   support\n",
      "\n",
      "           0       0.91      0.60      0.72     66338\n",
      "           1       0.17      0.59      0.26      9262\n",
      "\n",
      "    accuracy                           0.59     75600\n",
      "   macro avg       0.54      0.59      0.49     75600\n",
      "weighted avg       0.82      0.59      0.66     75600\n",
      "\n"
     ]
    }
   ],
   "source": [
    "print(classification_report(y_test,y_pred))"
   ]
  },
  {
   "cell_type": "markdown",
   "id": "eba72131",
   "metadata": {
    "papermill": {
     "duration": 0.026836,
     "end_time": "2023-04-28T10:25:23.325777",
     "exception": false,
     "start_time": "2023-04-28T10:25:23.298941",
     "status": "completed"
    },
    "tags": []
   },
   "source": [
    "### Extra Tree"
   ]
  },
  {
   "cell_type": "code",
   "execution_count": 49,
   "id": "4b582550",
   "metadata": {
    "execution": {
     "iopub.execute_input": "2023-04-28T10:25:23.383148Z",
     "iopub.status.busy": "2023-04-28T10:25:23.382703Z",
     "iopub.status.idle": "2023-04-28T10:26:28.293908Z",
     "shell.execute_reply": "2023-04-28T10:26:28.292651Z"
    },
    "papermill": {
     "duration": 64.969557,
     "end_time": "2023-04-28T10:26:28.323277",
     "exception": false,
     "start_time": "2023-04-28T10:25:23.353720",
     "status": "completed"
    },
    "tags": []
   },
   "outputs": [
    {
     "data": {
      "text/plain": [
       "0.8806216931216931"
      ]
     },
     "execution_count": 49,
     "metadata": {},
     "output_type": "execute_result"
    }
   ],
   "source": [
    "from sklearn.ensemble import ExtraTreesClassifier\n",
    "\n",
    "model = ExtraTreesClassifier(criterion=\"entropy\",random_state=15000)\n",
    "model.fit(X_res, y_res)\n",
    "y_pred = model.predict(X_test)\n",
    "accuracy = model.score(X_test, y_test)\n",
    "accuracy"
   ]
  },
  {
   "cell_type": "code",
   "execution_count": 50,
   "id": "b71f0878",
   "metadata": {
    "execution": {
     "iopub.execute_input": "2023-04-28T10:26:28.379105Z",
     "iopub.status.busy": "2023-04-28T10:26:28.378184Z",
     "iopub.status.idle": "2023-04-28T10:26:28.496939Z",
     "shell.execute_reply": "2023-04-28T10:26:28.495407Z"
    },
    "papermill": {
     "duration": 0.149669,
     "end_time": "2023-04-28T10:26:28.499560",
     "exception": false,
     "start_time": "2023-04-28T10:26:28.349891",
     "status": "completed"
    },
    "tags": []
   },
   "outputs": [
    {
     "name": "stdout",
     "output_type": "stream",
     "text": [
      "              precision    recall  f1-score   support\n",
      "\n",
      "           0       0.97      0.89      0.93     66338\n",
      "           1       0.51      0.81      0.62      9262\n",
      "\n",
      "    accuracy                           0.88     75600\n",
      "   macro avg       0.74      0.85      0.78     75600\n",
      "weighted avg       0.91      0.88      0.89     75600\n",
      "\n"
     ]
    }
   ],
   "source": [
    "print(classification_report(y_test,y_pred))"
   ]
  },
  {
   "cell_type": "markdown",
   "id": "b9db8237",
   "metadata": {
    "papermill": {
     "duration": 0.027953,
     "end_time": "2023-04-28T10:26:28.555076",
     "exception": false,
     "start_time": "2023-04-28T10:26:28.527123",
     "status": "completed"
    },
    "tags": []
   },
   "source": [
    "### Conclusion\n",
    "XGBoost is the best suitable model for our dataset with accuracy 89%, Alternatively Random Forest and Extra Tree Classifier can also consider, since they gives accuracy of 88%."
   ]
  },
  {
   "cell_type": "markdown",
   "id": "aeee15db",
   "metadata": {
    "papermill": {
     "duration": 0.02657,
     "end_time": "2023-04-28T10:26:28.609446",
     "exception": false,
     "start_time": "2023-04-28T10:26:28.582876",
     "status": "completed"
    },
    "tags": []
   },
   "source": [
    "# Using XGboost to get prediction"
   ]
  },
  {
   "cell_type": "code",
   "execution_count": 51,
   "id": "3f202ff0",
   "metadata": {
    "execution": {
     "iopub.execute_input": "2023-04-28T10:26:28.664754Z",
     "iopub.status.busy": "2023-04-28T10:26:28.664304Z",
     "iopub.status.idle": "2023-04-28T10:26:29.126317Z",
     "shell.execute_reply": "2023-04-28T10:26:29.125265Z"
    },
    "papermill": {
     "duration": 0.492942,
     "end_time": "2023-04-28T10:26:29.129038",
     "exception": false,
     "start_time": "2023-04-28T10:26:28.636096",
     "status": "completed"
    },
    "tags": []
   },
   "outputs": [
    {
     "data": {
      "text/html": [
       "<div>\n",
       "<style scoped>\n",
       "    .dataframe tbody tr th:only-of-type {\n",
       "        vertical-align: middle;\n",
       "    }\n",
       "\n",
       "    .dataframe tbody tr th {\n",
       "        vertical-align: top;\n",
       "    }\n",
       "\n",
       "    .dataframe thead th {\n",
       "        text-align: right;\n",
       "    }\n",
       "</style>\n",
       "<table border=\"1\" class=\"dataframe\">\n",
       "  <thead>\n",
       "    <tr style=\"text-align: right;\">\n",
       "      <th></th>\n",
       "      <th>0</th>\n",
       "    </tr>\n",
       "    <tr>\n",
       "      <th>ID</th>\n",
       "      <th></th>\n",
       "    </tr>\n",
       "  </thead>\n",
       "  <tbody>\n",
       "    <tr>\n",
       "      <th>1</th>\n",
       "      <td>0</td>\n",
       "    </tr>\n",
       "    <tr>\n",
       "      <th>2</th>\n",
       "      <td>1</td>\n",
       "    </tr>\n",
       "    <tr>\n",
       "      <th>3</th>\n",
       "      <td>0</td>\n",
       "    </tr>\n",
       "    <tr>\n",
       "      <th>4</th>\n",
       "      <td>1</td>\n",
       "    </tr>\n",
       "    <tr>\n",
       "      <th>5</th>\n",
       "      <td>0</td>\n",
       "    </tr>\n",
       "    <tr>\n",
       "      <th>...</th>\n",
       "      <td>...</td>\n",
       "    </tr>\n",
       "    <tr>\n",
       "      <th>27996</th>\n",
       "      <td>0</td>\n",
       "    </tr>\n",
       "    <tr>\n",
       "      <th>27997</th>\n",
       "      <td>0</td>\n",
       "    </tr>\n",
       "    <tr>\n",
       "      <th>27998</th>\n",
       "      <td>0</td>\n",
       "    </tr>\n",
       "    <tr>\n",
       "      <th>27999</th>\n",
       "      <td>0</td>\n",
       "    </tr>\n",
       "    <tr>\n",
       "      <th>28000</th>\n",
       "      <td>1</td>\n",
       "    </tr>\n",
       "  </tbody>\n",
       "</table>\n",
       "<p>28000 rows × 1 columns</p>\n",
       "</div>"
      ],
      "text/plain": [
       "       0\n",
       "ID      \n",
       "1      0\n",
       "2      1\n",
       "3      0\n",
       "4      1\n",
       "5      0\n",
       "...   ..\n",
       "27996  0\n",
       "27997  0\n",
       "27998  0\n",
       "27999  0\n",
       "28000  1\n",
       "\n",
       "[28000 rows x 1 columns]"
      ]
     },
     "execution_count": 51,
     "metadata": {},
     "output_type": "execute_result"
    }
   ],
   "source": [
    "test=pd.read_csv('../input/loan-prediction-based-on-customer-behavior/Test Data.csv')\n",
    "features = [\"CURRENT_JOB_YRS\",\"Experience\"]\n",
    "\n",
    "df_for_pca = test[features]\n",
    "scaled_df_for_pca = (df_for_pca - df_for_pca.mean(axis=0))/df_for_pca.std()\n",
    "scaled_df_for_pca\n",
    "\n",
    "pca = PCA()\n",
    "df_pca = pca.fit_transform(scaled_df_for_pca)\n",
    "component_names = [f\"PC{i+1}\" for i in range(df_pca.shape[1])]\n",
    "df_pca = pd.DataFrame(df_pca, columns=component_names)\n",
    "\n",
    "df_pca.head()\n",
    "\n",
    "\n",
    "df1 = pd.concat([test,df_pca],axis=1)\n",
    "df1.head()\n",
    "\n",
    "features = ['Married/Single','Car_Ownership','Profession','CITY','STATE']\n",
    "\n",
    "for col in features:\n",
    "    df1[col] = label_encoder.fit_transform(df1[col])\n",
    "\n",
    "\n",
    "\n",
    "df2 = pd.get_dummies(df1, columns = [\"House_Ownership\"])\n",
    "df2.drop([\"ID\"],axis=1,inplace=True)\n",
    "\n",
    "X=df2\n",
    "y=xg_model.predict(X)\n",
    "y=pd.Series(y)\n",
    "prediction=pd.concat([test['ID'],y],axis=1).set_index('ID')\n",
    "prediction"
   ]
  },
  {
   "cell_type": "code",
   "execution_count": 52,
   "id": "c7c4d532",
   "metadata": {
    "execution": {
     "iopub.execute_input": "2023-04-28T10:26:29.187149Z",
     "iopub.status.busy": "2023-04-28T10:26:29.186212Z",
     "iopub.status.idle": "2023-04-28T10:26:29.193438Z",
     "shell.execute_reply": "2023-04-28T10:26:29.191947Z"
    },
    "papermill": {
     "duration": 0.039202,
     "end_time": "2023-04-28T10:26:29.196545",
     "exception": false,
     "start_time": "2023-04-28T10:26:29.157343",
     "status": "completed"
    },
    "tags": []
   },
   "outputs": [
    {
     "name": "stdout",
     "output_type": "stream",
     "text": [
      "Percentage of potentially risky customers in the test data set: 41.0 %\n"
     ]
    }
   ],
   "source": [
    "print(\"Percentage of potentially risky customers in the test data set:\",round(np.mean(y),2)*100,'%')"
   ]
  }
 ],
 "metadata": {
  "kernelspec": {
   "display_name": "Python 3",
   "language": "python",
   "name": "python3"
  },
  "language_info": {
   "codemirror_mode": {
    "name": "ipython",
    "version": 3
   },
   "file_extension": ".py",
   "mimetype": "text/x-python",
   "name": "python",
   "nbconvert_exporter": "python",
   "pygments_lexer": "ipython3",
   "version": "3.7.12"
  },
  "papermill": {
   "default_parameters": {},
   "duration": 514.270092,
   "end_time": "2023-04-28T10:26:30.151288",
   "environment_variables": {},
   "exception": null,
   "input_path": "__notebook__.ipynb",
   "output_path": "__notebook__.ipynb",
   "parameters": {},
   "start_time": "2023-04-28T10:17:55.881196",
   "version": "2.4.0"
  }
 },
 "nbformat": 4,
 "nbformat_minor": 5
}
